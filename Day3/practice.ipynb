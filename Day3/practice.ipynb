{
  "nbformat": 4,
  "nbformat_minor": 0,
  "metadata": {
    "colab": {
      "provenance": []
    },
    "kernelspec": {
      "name": "python3",
      "display_name": "Python 3"
    },
    "language_info": {
      "name": "python"
    }
  },
  "cells": [
    {
      "cell_type": "code",
      "execution_count": null,
      "metadata": {
        "colab": {
          "base_uri": "https://localhost:8080/"
        },
        "id": "DdTe31vV8H5w",
        "outputId": "4fd4c4e8-a0b0-4d84-b496-d83463b3506f"
      },
      "outputs": [
        {
          "output_type": "execute_result",
          "data": {
            "text/plain": [
              "[1, 2, 3, 4, 1, 2, 3, 4, 5]"
            ]
          },
          "metadata": {},
          "execution_count": 14
        }
      ],
      "source": [
        "def find_int(lst):\n",
        "  l=[]\n",
        "  for i in lst:\n",
        "    if type(i) == list:\n",
        "      for j in i:\n",
        "        if type(j) is int:\n",
        "          l.append(j)\n",
        "    else:\n",
        "      if type(i) is int:\n",
        "        l.append(i)\n",
        "  return l\n",
        "lst = [1, 2, 3, 4, \"Emdadul\", \"Tarque\", [1, 2, 3, 4, 5]]\n",
        "find_int(lst)"
      ]
    },
    {
      "cell_type": "code",
      "source": [
        "def test(*args,a):\n",
        "  return args,a\n",
        "test(2,3,4,5,a=7)"
      ],
      "metadata": {
        "colab": {
          "base_uri": "https://localhost:8080/"
        },
        "id": "ErzPSIycJ0pL",
        "outputId": "098a717d-3964-4522-9bb4-abf5ed6ae0e7"
      },
      "execution_count": null,
      "outputs": [
        {
          "output_type": "execute_result",
          "data": {
            "text/plain": [
              "((2, 3, 4, 5), 7)"
            ]
          },
          "metadata": {},
          "execution_count": 25
        }
      ]
    },
    {
      "cell_type": "code",
      "source": [
        "def test5(c,d,a = 10, b = 20):\n",
        "    return a,b,c,d\n",
        "test5(2,3)"
      ],
      "metadata": {
        "colab": {
          "base_uri": "https://localhost:8080/"
        },
        "id": "SXnJskMMN1i5",
        "outputId": "b141a783-baff-4dc5-daec-4c4e3e2f1ca8"
      },
      "execution_count": null,
      "outputs": [
        {
          "output_type": "execute_result",
          "data": {
            "text/plain": [
              "(10, 20, 2, 3)"
            ]
          },
          "metadata": {},
          "execution_count": 29
        }
      ]
    },
    {
      "cell_type": "code",
      "source": [
        "def test6(**kwargs):\n",
        "    return kwargs\n",
        "test6(a = 10, b = 20, c = [1, 2, 3, 4], d = (\"emdadul\", \"Tareque\"))"
      ],
      "metadata": {
        "colab": {
          "base_uri": "https://localhost:8080/"
        },
        "id": "3pnr3e9QOcsv",
        "outputId": "4b2bbefc-ae61-4f7b-fe14-48813517ac90"
      },
      "execution_count": null,
      "outputs": [
        {
          "output_type": "execute_result",
          "data": {
            "text/plain": [
              "{'a': 10, 'b': 20, 'c': [1, 2, 3, 4], 'd': ('emdadul', 'Tareque')}"
            ]
          },
          "metadata": {},
          "execution_count": 31
        }
      ]
    },
    {
      "cell_type": "code",
      "source": [
        "def test7(ab=34,bc=10,cd=20,*a,**kwargs):\n",
        "    return ab,bc,cd\n",
        "test7(34,10,20, [1, 2, 3, 4],(\"emdadul\", \"Tareque\"),a = 10, b = 20, c = [1, 2, 3, 4])"
      ],
      "metadata": {
        "colab": {
          "base_uri": "https://localhost:8080/"
        },
        "id": "-OZ5ZvNnO17p",
        "outputId": "6d0c68f3-1d04-447c-fe3a-1cbc34b9e4f3"
      },
      "execution_count": null,
      "outputs": [
        {
          "output_type": "execute_result",
          "data": {
            "text/plain": [
              "(34, 10, 20)"
            ]
          },
          "metadata": {},
          "execution_count": 57
        }
      ]
    },
    {
      "cell_type": "code",
      "source": [
        "def print_arguments(a, b, c):\n",
        "    print(f\"a: {a}, b: {b}, c: {c}\")\n",
        "\n",
        "my_dict = {\"a\": 1, \"b\": 2, \"c\": 3}\n",
        "print_arguments(**my_dict)"
      ],
      "metadata": {
        "colab": {
          "base_uri": "https://localhost:8080/"
        },
        "id": "FUJSvsIcQq9n",
        "outputId": "3d7576c5-3310-46bc-af5c-9460b87d4db7"
      },
      "execution_count": null,
      "outputs": [
        {
          "output_type": "stream",
          "name": "stdout",
          "text": [
            "a: 1, b: 2, c: 3\n"
          ]
        }
      ]
    },
    {
      "cell_type": "code",
      "source": [
        "def print_arguments(*args,**kwargs):\n",
        "    print(f\"kwargs:{kwargs}\")\n",
        "    print(f\"args:{args}\")\n",
        "    print()\n",
        "\n",
        "\n",
        "my_dict = {\"a\": 1, \"b\": 2, \"c\": 3}\n",
        "print_arguments(**my_dict)\n",
        "\n",
        "print_arguments({\"a\": 1, \"b\": 2, \"c\": 3})"
      ],
      "metadata": {
        "colab": {
          "base_uri": "https://localhost:8080/"
        },
        "id": "nmf1vTsJReZP",
        "outputId": "543d88f7-94fd-4fdc-e315-f2e00ae1f640"
      },
      "execution_count": null,
      "outputs": [
        {
          "output_type": "stream",
          "name": "stdout",
          "text": [
            "kwargs:{'a': 1, 'b': 2, 'c': 3}\n",
            "args:()\n",
            "\n",
            "kwargs:{}\n",
            "args:({'a': 1, 'b': 2, 'c': 3},)\n",
            "\n"
          ]
        }
      ]
    },
    {
      "cell_type": "code",
      "source": [
        "number = lambda *args : print(args)\n",
        "number(my_dict,90)\n",
        "\n",
        "map(number(),)"
      ],
      "metadata": {
        "colab": {
          "base_uri": "https://localhost:8080/"
        },
        "id": "ukKHEzvVX7aL",
        "outputId": "42d9c85d-3c16-436d-e195-d9b6aee59713"
      },
      "execution_count": null,
      "outputs": [
        {
          "output_type": "stream",
          "name": "stdout",
          "text": [
            "({'a': 1, 'b': 2, 'c': 3}, 90)\n"
          ]
        }
      ]
    },
    {
      "cell_type": "code",
      "source": [
        "lst = [10, 20, 4, 12, 93, 332]\n",
        "print(list(filter(lambda x : x % 2 == 0, lst)))\n",
        "list(map(lambda x : x % 2 == 0, lst))"
      ],
      "metadata": {
        "colab": {
          "base_uri": "https://localhost:8080/"
        },
        "id": "Uleusp1qaLqE",
        "outputId": "1bb76eee-d333-4b7a-d982-e410abe01951"
      },
      "execution_count": null,
      "outputs": [
        {
          "output_type": "stream",
          "name": "stdout",
          "text": [
            "[10, 20, 4, 12, 332]\n"
          ]
        },
        {
          "output_type": "execute_result",
          "data": {
            "text/plain": [
              "[True, True, True, True, False, True]"
            ]
          },
          "metadata": {},
          "execution_count": 70
        }
      ]
    },
    {
      "cell_type": "code",
      "source": [
        "from functools import reduce\n",
        "a = reduce(lambda x, y : x + y, lst)\n",
        "print(a)\n",
        "a = reduce(lambda x,y : x and y % 2 == 0, lst,True)\n",
        "print(a)"
      ],
      "metadata": {
        "colab": {
          "base_uri": "https://localhost:8080/"
        },
        "id": "BtLYU7kqalYM",
        "outputId": "2b2b356f-bd45-4f1f-9d07-4bcd35cea879"
      },
      "execution_count": null,
      "outputs": [
        {
          "output_type": "stream",
          "name": "stdout",
          "text": [
            "471\n",
            "False\n"
          ]
        }
      ]
    },
    {
      "cell_type": "code",
      "source": [
        "all(x % 2 == 0 for x in lst)"
      ],
      "metadata": {
        "colab": {
          "base_uri": "https://localhost:8080/"
        },
        "id": "jSn_LRx2blXq",
        "outputId": "1d0fef08-75a9-4147-e118-a87816c89e8f"
      },
      "execution_count": null,
      "outputs": [
        {
          "output_type": "execute_result",
          "data": {
            "text/plain": [
              "False"
            ]
          },
          "metadata": {},
          "execution_count": 81
        }
      ]
    },
    {
      "cell_type": "markdown",
      "source": [
        "01. Write a program to make a list of squares of number from 1 - 10 and sum the elements in the list generated"
      ],
      "metadata": {
        "id": "uHz3xm1BdfQZ"
      }
    },
    {
      "cell_type": "code",
      "source": [
        "reduce(lambda x,y:x+y,list(map(lambda x:x**2,range(1,11))))"
      ],
      "metadata": {
        "colab": {
          "base_uri": "https://localhost:8080/"
        },
        "id": "o9jqq3EddeJg",
        "outputId": "2ef61795-d69f-4dc7-c0bb-db3f772541ed"
      },
      "execution_count": null,
      "outputs": [
        {
          "output_type": "execute_result",
          "data": {
            "text/plain": [
              "385"
            ]
          },
          "metadata": {},
          "execution_count": 84
        }
      ]
    },
    {
      "cell_type": "markdown",
      "source": [
        "02. Write a program to create a list of numbers in the range 1 to 10. Then create all the even numbers from the list and print the final list"
      ],
      "metadata": {
        "id": "EtId_CYkesNm"
      }
    },
    {
      "cell_type": "code",
      "source": [
        "list(filter(lambda x: x %2 == 0,list(range(1,11))))"
      ],
      "metadata": {
        "colab": {
          "base_uri": "https://localhost:8080/"
        },
        "id": "FxM4l0Nienob",
        "outputId": "648f6ce8-762f-4d8f-c891-1d397d1f8b34"
      },
      "execution_count": null,
      "outputs": [
        {
          "output_type": "execute_result",
          "data": {
            "text/plain": [
              "[2, 4, 6, 8, 10]"
            ]
          },
          "metadata": {},
          "execution_count": 90
        }
      ]
    },
    {
      "cell_type": "markdown",
      "source": [
        "03. Write a program that convers strings of all uppercase charaters into strings of all lowercase characters using map function"
      ],
      "metadata": {
        "id": "vHhh6pBMfobD"
      }
    },
    {
      "cell_type": "code",
      "source": [
        "l = list(map(lambda s: s.upper(),[\"jahirul\",\"islam\",\"razon\"]))\n",
        "print(l)\n",
        "list(map(lambda s: s.lower(),l))"
      ],
      "metadata": {
        "colab": {
          "base_uri": "https://localhost:8080/"
        },
        "id": "yQnlmfQTfpzN",
        "outputId": "9d5c374e-d329-47d8-a8b9-24f3e10347aa"
      },
      "execution_count": null,
      "outputs": [
        {
          "output_type": "stream",
          "name": "stdout",
          "text": [
            "['JAHIRUL', 'ISLAM', 'RAZON']\n"
          ]
        },
        {
          "output_type": "execute_result",
          "data": {
            "text/plain": [
              "['jahirul', 'islam', 'razon']"
            ]
          },
          "metadata": {},
          "execution_count": 97
        }
      ]
    },
    {
      "cell_type": "markdown",
      "source": [
        "04. Write a program that has a list of both positive and negative numbers. Create another list using filtre() that has only positive values."
      ],
      "metadata": {
        "id": "CsimJdEPghU6"
      }
    },
    {
      "cell_type": "code",
      "source": [
        "lst = [-1,-2,-6,-9,5,8,7,4,6,9,-8,-5,12,34]\n",
        "\n",
        "list(filter(lambda x:x>0,lst))"
      ],
      "metadata": {
        "colab": {
          "base_uri": "https://localhost:8080/"
        },
        "id": "va2u1SungiVO",
        "outputId": "1f035da7-f5ce-4089-e19f-6f57657f71e4"
      },
      "execution_count": null,
      "outputs": [
        {
          "output_type": "execute_result",
          "data": {
            "text/plain": [
              "[5, 8, 7, 4, 6, 9, 12, 34]"
            ]
          },
          "metadata": {},
          "execution_count": 100
        }
      ]
    }
  ]
}