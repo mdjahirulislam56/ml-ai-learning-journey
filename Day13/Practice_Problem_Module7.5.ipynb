{
 "cells": [
  {
   "cell_type": "markdown",
   "id": "b8e3eac7",
   "metadata": {},
   "source": [
    "**Problem 1:** Common Friends (Set Operations)\n",
    "\n",
    "Problem:\n",
    "\n",
    "Given two sets of friends from two people, find the mutual friends, unique friends of each, and the total number of unique friends.\n",
    "\n",
    "**Example Input:**\n",
    "\n",
    "a_friends = {\"Rahim\", \"Karim\", \"Sakib\", \"Jamal\"}\n",
    "\n",
    "b_friends = {\"Sakib\", \"Jamal\", \"Rafiq\", \"Nadim\"}\n",
    "\n",
    "**Expected Output:**\n",
    "\n",
    "Mutual friends: {'Sakib', 'Jamal'}\n",
    "\n",
    "Unique to A: {'Rahim', 'Karim'}\n",
    "\n",
    "Unique to B: {'Rafiq', 'Nadim'}\n",
    "\n",
    "Total unique friends: 6\n"
   ]
  },
  {
   "cell_type": "code",
   "execution_count": 4,
   "id": "bd38053a",
   "metadata": {},
   "outputs": [
    {
     "name": "stdout",
     "output_type": "stream",
     "text": [
      "Mutual friends: {'Sakib', 'Jamal'}\n",
      "Unique to A: {'Rahim', 'Karim'}\n",
      "Unique to B: {'Rafiq', 'Nadim'}\n",
      "Total unique friends: 6\n"
     ]
    }
   ],
   "source": [
    "a_friends = {\"Rahim\", \"Karim\", \"Sakib\", \"Jamal\"}\n",
    "b_friends = {\"Sakib\", \"Jamal\", \"Rafiq\", \"Nadim\"}\n",
    "\n",
    "mutual_friends = {x for x in a_friends if x in b_friends}\n",
    "unique_A_friends = {x for x in a_friends if x not in b_friends}\n",
    "unique_B_friends = {x for x in b_friends if x not in a_friends}\n",
    "total_unique = len(mutual_friends)+len(unique_A_friends)+len(unique_B_friends)\n",
    "\n",
    "print(f\"Mutual friends: {mutual_friends}\\nUnique to A: {unique_A_friends}\\nUnique to B: {unique_B_friends}\\nTotal unique friends: {total_unique}\")"
   ]
  },
  {
   "cell_type": "markdown",
   "id": "d2646f6c",
   "metadata": {},
   "source": [
    "**Problem 2:** Sort Students by Marks (Tuple + Dictionary)\n",
    "\n",
    "Problem:\n",
    "\n",
    "You are given a list of tuples — each containing a student’s name and mark.\n",
    "\n",
    "Sort them in descending order of marks and print the top 3 scorers.\n",
    "\n",
    "**Example Input:**\n",
    "\n",
    "students = [(\"Rafi\", 89), (\"Sumi\", 95), (\"Hasan\", 90), (\"Nila\", 75), (\"Anik\", 98)]\n",
    "\n",
    "**Expected Output:**\n",
    "\n",
    "Top 3 students:\n",
    "\n",
    "Anik - 98\n",
    "\n",
    "Sumi - 95\n",
    "\n",
    "Hasan - 90\n"
   ]
  },
  {
   "cell_type": "code",
   "execution_count": 21,
   "id": "c1ad7e98",
   "metadata": {},
   "outputs": [
    {
     "name": "stdout",
     "output_type": "stream",
     "text": [
      "Top 3 students:\n",
      "Anik - 98\n",
      "Sumi - 95\n",
      "Hasan - 90\n"
     ]
    }
   ],
   "source": [
    "students = [(\"Rafi\", 89), (\"Sumi\", 95), (\"Hasan\", 90), (\"Nila\", 75), (\"Anik\", 98)]\n",
    "\n",
    "# students_dict = {y:x for x,y in students}\n",
    "\n",
    "# marks = students_dict.keys()\n",
    "\n",
    "# marks_sorted = sorted(marks, reverse=True)\n",
    "\n",
    "# print(\"Top 3 students:\")\n",
    "# for i in range(3):\n",
    "#     print(f\"{students_dict.get(marks_sorted[i])} - {marks_sorted[i]}\")\n",
    "\n",
    "\n",
    "students_sorted = sorted(students, key=lambda x:x[1], reverse=True)\n",
    "\n",
    "print(\"Top 3 students:\")\n",
    "for x in students_sorted[:3]:\n",
    "    print(f\"{x[0]} - {x[1]}\")"
   ]
  },
  {
   "cell_type": "markdown",
   "id": "383f06ff",
   "metadata": {},
   "source": [
    "**Problem 3:** Word Length Filter (Lambda + Filter)\n",
    "\n",
    "Problem:\n",
    "\n",
    "Given a list of words, use *filter()* and *lambda* to return only words whose length is greater than 4.\n",
    "\n",
    "**Example Input:**\n",
    "\n",
    "words = [\"sun\", \"planet\", \"moon\", \"star\", \"universe\"]\n",
    "\n",
    "**Expected Output:**\n",
    "\n",
    "['planet', 'universe']"
   ]
  },
  {
   "cell_type": "code",
   "execution_count": 22,
   "id": "4928f4e9",
   "metadata": {},
   "outputs": [
    {
     "name": "stdout",
     "output_type": "stream",
     "text": [
      "['planet', 'universe']\n"
     ]
    }
   ],
   "source": [
    "words = [\"sun\", \"planet\", \"moon\", \"star\", \"universe\"]\n",
    "\n",
    "words_filtered = list(filter(lambda x: len(x)>4 , words))\n",
    "\n",
    "print(words_filtered)"
   ]
  },
  {
   "cell_type": "markdown",
   "id": "5cc06760",
   "metadata": {},
   "source": [
    "**Problem 4:** Square of Even Numbers (Map + Filter + Lambda)\n",
    "\n",
    "**Problem:**\n",
    "\n",
    "Write a one-line Python expression using *map()*, *filter()*, and *lambda* that takes a list of integers and returns the squares of even numbers only.\n",
    "\n",
    "**Example Input:**\n",
    "\n",
    "nums = [1, 2, 3, 4, 5, 6]\n",
    "\n",
    "**Expected Output:**\n",
    "\n",
    "[4, 16, 36]\n"
   ]
  },
  {
   "cell_type": "code",
   "execution_count": 23,
   "id": "15fe918e",
   "metadata": {},
   "outputs": [
    {
     "name": "stdout",
     "output_type": "stream",
     "text": [
      "[4, 16, 36]\n"
     ]
    }
   ],
   "source": [
    "nums = [1,2,3,4,5,6]\n",
    "\n",
    "square = list(map(lambda x: x**2,filter(lambda x: x%2==0,nums)))\n",
    "\n",
    "print(square)"
   ]
  },
  {
   "cell_type": "markdown",
   "id": "3879d4a1",
   "metadata": {},
   "source": [
    "**Problem 5:** Write and Read a File\n",
    "\n",
    "**Problem:**\n",
    " \n",
    "Write a Python program to:\n",
    "1. Create a text file named data.txt\n",
    "2. Write “Learning Python is fun!” into it.\n",
    "3. Read the file and print its content."
   ]
  },
  {
   "cell_type": "code",
   "execution_count": 24,
   "id": "57872e26",
   "metadata": {},
   "outputs": [
    {
     "name": "stdout",
     "output_type": "stream",
     "text": [
      "Learning Python is fun!\n"
     ]
    }
   ],
   "source": [
    "with open(\"data.txt\", 'w') as file:\n",
    "    file.write(\"Learning Python is fun!\")\n",
    "    \n",
    "with open(\"data.txt\",'r') as file:\n",
    "    content = file.read()\n",
    "    print(content)"
   ]
  },
  {
   "cell_type": "markdown",
   "id": "5fd19d57",
   "metadata": {},
   "source": [
    "**Problem 6:** Count Lines in a File\n",
    "\n",
    "**Problem:**\n",
    "\n",
    "Write a Python program to count how many lines are in a text file named **story.txt**.\n",
    "If the file does not exist, handle the exception and print an error message, otherwise read the text file ( test it with both conditions ). Print a message finally. "
   ]
  },
  {
   "cell_type": "code",
   "execution_count": null,
   "id": "1ebaa447",
   "metadata": {},
   "outputs": [
    {
     "name": "stdout",
     "output_type": "stream",
     "text": [
      "There is no file called story.txt\n",
      "File is closed!!\n"
     ]
    }
   ],
   "source": [
    "try:\n",
    "    with open(\"story.txt\", 'r') as file:\n",
    "        content = file.read()\n",
    "        no_of_lines = len(content.split(\".\"))\n",
    "        print(f\"No. of lines in the file is : {no_of_lines}\")\n",
    "except FileNotFoundError:\n",
    "    print(\"There is no file called story.txt\")\n",
    "except Exception as e:\n",
    "    print(e)\n",
    "finally:\n",
    "    print(\"File is closed!!\")"
   ]
  },
  {
   "cell_type": "code",
   "execution_count": 51,
   "id": "e049dc4b",
   "metadata": {},
   "outputs": [
    {
     "name": "stdout",
     "output_type": "stream",
     "text": [
      "No. of lines in the file is : 9\n",
      "File is closed!!\n"
     ]
    }
   ],
   "source": [
    "try:\n",
    "    with open(\"story.txt\", 'r') as file:\n",
    "        content = file.readlines()\n",
    "        no_of_lines = len(content)\n",
    "        print(f\"No. of lines in the file is : {no_of_lines}\")\n",
    "except FileNotFoundError:\n",
    "    print(\"There is no file called story.txt\")\n",
    "except Exception as e:\n",
    "    print(e)\n",
    "finally:\n",
    "    print(\"File is closed!!\")"
   ]
  }
 ],
 "metadata": {
  "kernelspec": {
   "display_name": "Python 3",
   "language": "python",
   "name": "python3"
  },
  "language_info": {
   "codemirror_mode": {
    "name": "ipython",
    "version": 3
   },
   "file_extension": ".py",
   "mimetype": "text/x-python",
   "name": "python",
   "nbconvert_exporter": "python",
   "pygments_lexer": "ipython3",
   "version": "3.10.0"
  }
 },
 "nbformat": 4,
 "nbformat_minor": 5
}
