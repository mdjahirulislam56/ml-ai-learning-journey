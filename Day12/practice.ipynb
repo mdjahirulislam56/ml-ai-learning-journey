{
 "cells": [
  {
   "cell_type": "markdown",
   "id": "e699baeb",
   "metadata": {},
   "source": [
    "1. Create a text file named **emails.txt** containing multiple email addresses, some in uppercase and some repeated.\n",
    "\n",
    "Write a Python program to clean the data by converting all emails to lowercase, removing duplicates, sorting them alphabetically, and saving the cleaned list to a new file named **unique_emails.txt**."
   ]
  },
  {
   "cell_type": "code",
   "execution_count": 1,
   "id": "2936b4a0",
   "metadata": {},
   "outputs": [],
   "source": [
    "from functools import reduce\n",
    "\n",
    "with open(\"emails.txt\",'r') as email_file:\n",
    "    content = email_file.readlines()\n",
    "    \n",
    "    #removing default whitespace and new line at the end:\n",
    "    content = list(map(str.strip,content))\n",
    "    \n",
    "    #removing empty list:\n",
    "    content = list(filter(lambda x: x != \"\",content))\n",
    "    \n",
    "    #removing @gamil.com:\n",
    "    # content = list(map(lambda x: x.replace(\"@gmail.com\",\"\"),content))\n",
    "    \n",
    "    #converting to lowercase:\n",
    "    content = list(map(str.lower,content))\n",
    "    \n",
    "    #removing duplicates:\n",
    "    content_tuple = set(content)\n",
    "    content = list(content_tuple)\n",
    "    \n",
    "    #sorting them alphabetically\n",
    "    content = sorted(content)\n",
    "    \n",
    "    #converting to single string\n",
    "    content = reduce(lambda x,y: x+\"\\n\"+y,content)\n",
    "    \n",
    "\n",
    "with open(\"unique_emails.txt\",'w') as file:\n",
    "    file.write(content)\n",
    "    "
   ]
  },
  {
   "cell_type": "markdown",
   "id": "18d9d650",
   "metadata": {},
   "source": [
    "2. Create a text file named **names.txt** containing a list of names.\n",
    "Some names may have extra spaces, inconsistent capitalization (like “aLiCe” or “ bob ”), or appear more than once.\n",
    "Write a Python program to clean the data by:\n",
    "    1.  Removing extra spaces.\n",
    "    2.  Converting all names so that only the first letter is capitalized.\n",
    "    3.  Removing duplicate names. \n",
    "    4. Sorting the names alphabetically.\n",
    "Finally, save the cleaned list into a new file named **clean_names.txt**."
   ]
  },
  {
   "cell_type": "code",
   "execution_count": 2,
   "id": "b8b5fd86",
   "metadata": {},
   "outputs": [
    {
     "name": "stdout",
     "output_type": "stream",
     "text": [
      "Bob Islam Jahirul Marry Rafi Tanbin\n"
     ]
    }
   ],
   "source": [
    "with open(\"names.txt\",\"r\") as file:\n",
    "\n",
    "        \n",
    "    names = file.read()\n",
    "    #removing extra space\n",
    "    names = names.split()\n",
    "    #first letter is capitalized\n",
    "    names = list(map(str.capitalize,names))\n",
    "    #removing duplicates\n",
    "    names_tuple = set(names)\n",
    "    names = list(names_tuple)\n",
    "    #sorting alphabetically\n",
    "    names = sorted(names)\n",
    "    \n",
    "    #converting to single string\n",
    "    names = reduce(lambda x,y: x+\" \"+y,names)\n",
    "    print(names)\n",
    "    \n",
    "with open(\"clean_names.txt\",'w') as file:\n",
    "    file.write(names)   "
   ]
  },
  {
   "cell_type": "markdown",
   "id": "fcd64dbe",
   "metadata": {},
   "source": [
    "3. Write a Python program that creates a list of 5 numbers.\n",
    "Ask the user for an index number and print the value at that index.\n",
    "If the index is out of range, handle the exception and print **\"Invalid index!\"**."
   ]
  },
  {
   "cell_type": "code",
   "execution_count": 3,
   "id": "c5299147",
   "metadata": {},
   "outputs": [
    {
     "name": "stdout",
     "output_type": "stream",
     "text": [
      "Invalid index\n"
     ]
    }
   ],
   "source": [
    "lst = [x for x in range(1,6)]\n",
    "\n",
    "try:\n",
    "    n = int(input(\"Enter index number:\"))\n",
    "    print(f\"value at {n} index is : {lst[n]}\")\n",
    "except IndexError:\n",
    "    print(\"Invalid index\")\n",
    "except Exception as e:\n",
    "    print(e)\n"
   ]
  }
 ],
 "metadata": {
  "kernelspec": {
   "display_name": "Python 3",
   "language": "python",
   "name": "python3"
  },
  "language_info": {
   "codemirror_mode": {
    "name": "ipython",
    "version": 3
   },
   "file_extension": ".py",
   "mimetype": "text/x-python",
   "name": "python",
   "nbconvert_exporter": "python",
   "pygments_lexer": "ipython3",
   "version": "3.10.0"
  }
 },
 "nbformat": 4,
 "nbformat_minor": 5
}
