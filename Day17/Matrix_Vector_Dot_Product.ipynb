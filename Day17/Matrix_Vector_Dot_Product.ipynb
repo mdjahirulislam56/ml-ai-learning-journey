{
 "cells": [
  {
   "cell_type": "code",
   "execution_count": 20,
   "id": "4f654cfa",
   "metadata": {},
   "outputs": [
    {
     "name": "stdout",
     "output_type": "stream",
     "text": [
      "-1\n",
      "[5, 10]\n"
     ]
    }
   ],
   "source": [
    "import numpy as np\n",
    "\n",
    "def matrix_dot_vector(a: list[list[int|float]], b: list[int|float]) -> list[int|float]:\n",
    "    \n",
    "    a = np.array(a)\n",
    "    b = np.array(b)\n",
    "\n",
    "    if a.shape[1] == b.shape[0]:\n",
    "        result = np.dot(a,b)\n",
    "        return result.tolist()\n",
    "    else:\n",
    "        return -1\n",
    "        \n",
    "    \n",
    "print(matrix_dot_vector([[1, 2], [2, 4], [6, 8], [12, 4]], [1, 2, 3]))\n",
    "print(matrix_dot_vector(a = [[1, 2], [2, 4]], b = [1, 2]))"
   ]
  },
  {
   "cell_type": "markdown",
   "id": "7e88effb",
   "metadata": {},
   "source": [
    "## Extra"
   ]
  },
  {
   "cell_type": "code",
   "execution_count": 22,
   "id": "37281b3f",
   "metadata": {},
   "outputs": [
    {
     "name": "stdout",
     "output_type": "stream",
     "text": [
      "(2, 3)\n",
      "1.0\n"
     ]
    }
   ],
   "source": [
    "a = np.array([1,2,3,4,5,6])\n",
    "b = a.reshape(2,3)\n",
    "print(b.shape)\n",
    "print(np.sin(np.pi/2))"
   ]
  },
  {
   "cell_type": "code",
   "execution_count": 24,
   "id": "513410ef",
   "metadata": {},
   "outputs": [
    {
     "name": "stdout",
     "output_type": "stream",
     "text": [
      "[7 6 8]\n",
      "[1 2 3]\n"
     ]
    }
   ],
   "source": [
    "a =np.array([3,1,2])\n",
    "b =np.array([4,5,6])\n",
    "print(a+b)\n",
    "print(np.sort(a))"
   ]
  },
  {
   "cell_type": "code",
   "execution_count": 25,
   "id": "f337a491",
   "metadata": {},
   "outputs": [
    {
     "data": {
      "text/plain": [
       "array([[19, 22],\n",
       "       [43, 50]])"
      ]
     },
     "execution_count": 25,
     "metadata": {},
     "output_type": "execute_result"
    }
   ],
   "source": [
    "A = np.array([[1, 2], [3, 4]])\n",
    "B = np.array([[5, 6], [7, 8]])\n",
    "\n",
    "np.dot(A,B)"
   ]
  }
 ],
 "metadata": {
  "kernelspec": {
   "display_name": "Python 3",
   "language": "python",
   "name": "python3"
  },
  "language_info": {
   "codemirror_mode": {
    "name": "ipython",
    "version": 3
   },
   "file_extension": ".py",
   "mimetype": "text/x-python",
   "name": "python",
   "nbconvert_exporter": "python",
   "pygments_lexer": "ipython3",
   "version": "3.10.0"
  }
 },
 "nbformat": 4,
 "nbformat_minor": 5
}
