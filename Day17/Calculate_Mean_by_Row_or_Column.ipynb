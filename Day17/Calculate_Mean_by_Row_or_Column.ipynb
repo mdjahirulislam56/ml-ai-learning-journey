{
 "cells": [
  {
   "cell_type": "code",
   "execution_count": 3,
   "id": "9b1aec55",
   "metadata": {},
   "outputs": [
    {
     "data": {
      "text/plain": [
       "[4.0, 5.0, 6.0]"
      ]
     },
     "execution_count": 3,
     "metadata": {},
     "output_type": "execute_result"
    }
   ],
   "source": [
    "import ast\n",
    "def calculate_matrix_mean(matrix, mode):\n",
    "    import numpy as np\n",
    "    matrix = np.array(matrix)\n",
    "    n_row, n_col = matrix.shape\n",
    "    \n",
    "    if mode == 'row':\n",
    "        sum = []\n",
    "        avg = np.empty\n",
    "        for i in range(n_row):\n",
    "            sum.append(matrix[i,::].sum()) \n",
    "        sum = np.array(sum)\n",
    "        avg = sum/n_col\n",
    "        return avg.tolist()\n",
    "    \n",
    "    if mode == 'column':\n",
    "        sum = []\n",
    "        avg = np.empty\n",
    "        for i in range(n_col):\n",
    "            sum.append(matrix[::,i].sum()) \n",
    "        sum = np.array(sum)\n",
    "        avg = sum/n_row\n",
    "        return avg.tolist()\n",
    "\n",
    "matrix, mode = input().split(' mode = ')\n",
    "mode = mode.strip(\"'\").strip('\"')\n",
    "matrix = matrix.replace('matrix =', '').strip().rstrip(',')\n",
    "matrix = ast.literal_eval(matrix)\n",
    "\n",
    "\n",
    "calculate_matrix_mean(matrix= matrix , mode= mode)"
   ]
  },
  {
   "cell_type": "code",
   "execution_count": 2,
   "id": "a7a4fdb2",
   "metadata": {},
   "outputs": [
    {
     "name": "stdout",
     "output_type": "stream",
     "text": [
      "[4.0, 5.0, 6.0]\n",
      "[2.0, 5.0, 8.0]\n"
     ]
    }
   ],
   "source": [
    "def calculate_matrix_mean(matrix, mode):\n",
    "    import numpy as np\n",
    "    matrix = np.array(matrix)\n",
    "    n_row, n_col = matrix.shape\n",
    "    \n",
    "    if mode == 'row':\n",
    "        for i in range(n_row):\n",
    "            m = np.mean(matrix, axis=1)\n",
    "        return m.tolist()\n",
    "    \n",
    "    if mode == 'column':\n",
    "        for i in range(n_col):\n",
    "            m = np.mean(matrix, axis=0)\n",
    "        return m.tolist()\n",
    "    \n",
    "\n",
    "print(calculate_matrix_mean(matrix = [[1, 2, 3], [4, 5, 6], [7, 8, 9]], mode = 'column'))\n",
    "print(calculate_matrix_mean(matrix = [[1, 2, 3], [4, 5, 6], [7, 8, 9]] , mode = 'row'))"
   ]
  }
 ],
 "metadata": {
  "kernelspec": {
   "display_name": "Python 3",
   "language": "python",
   "name": "python3"
  },
  "language_info": {
   "codemirror_mode": {
    "name": "ipython",
    "version": 3
   },
   "file_extension": ".py",
   "mimetype": "text/x-python",
   "name": "python",
   "nbconvert_exporter": "python",
   "pygments_lexer": "ipython3",
   "version": "3.10.0"
  }
 },
 "nbformat": 4,
 "nbformat_minor": 5
}
