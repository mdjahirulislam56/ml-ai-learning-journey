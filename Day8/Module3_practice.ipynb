{
 "cells": [
  {
   "cell_type": "markdown",
   "id": "6ec28f0e",
   "metadata": {},
   "source": [
    "### List as Stack\n"
   ]
  },
  {
   "cell_type": "code",
   "execution_count": 6,
   "id": "1a335710",
   "metadata": {},
   "outputs": [
    {
     "name": "stdout",
     "output_type": "stream",
     "text": [
      "[20, 50, 40, 70, 20, 40]\n",
      "[20, 50, 40, 70, 20]\n",
      "[20, 50, 40, 70]\n",
      "[20, 50, 40]\n",
      "[20, 50]\n",
      "[20]\n",
      "[]\n"
     ]
    }
   ],
   "source": [
    "stack = []\n",
    "\n",
    "# Pushing in Stack\n",
    "stack.append(20)\n",
    "stack.append(50)\n",
    "stack.append(40)\n",
    "stack.append(70)\n",
    "stack.append(20)\n",
    "stack.append(40)\n",
    "\n",
    "print(stack)\n",
    "\n",
    "# Poping in stack\n",
    "stack.pop()\n",
    "print(stack)\n",
    "stack.pop()\n",
    "print(stack)\n",
    "stack.pop()\n",
    "print(stack)\n",
    "stack.pop()\n",
    "print(stack)\n",
    "stack.pop()\n",
    "print(stack)\n",
    "stack.pop()\n",
    "\n",
    "print(stack)"
   ]
  },
  {
   "cell_type": "markdown",
   "id": "8b7ace6b",
   "metadata": {},
   "source": [
    "### List as Queue"
   ]
  },
  {
   "cell_type": "code",
   "execution_count": 5,
   "id": "7e8011a6",
   "metadata": {},
   "outputs": [
    {
     "name": "stdout",
     "output_type": "stream",
     "text": [
      "[20, 50, 40, 70, 20, 40]\n",
      "[50, 40, 70, 20, 40]\n",
      "[40, 70, 20, 40]\n",
      "[70, 20, 40]\n",
      "[20, 40]\n",
      "[40]\n",
      "[]\n"
     ]
    }
   ],
   "source": [
    "queue = []\n",
    "\n",
    "\n",
    "# insertion\n",
    "queue.append(20)\n",
    "queue.append(50)\n",
    "queue.append(40)\n",
    "queue.append(70)\n",
    "queue.append(20)\n",
    "queue.append(40)\n",
    "\n",
    "print(queue)\n",
    "\n",
    "# remove\n",
    "queue.pop(0)\n",
    "print(queue)\n",
    "queue.pop(0)\n",
    "print(queue)\n",
    "queue.pop(0)\n",
    "print(queue)\n",
    "queue.pop(0)\n",
    "print(queue)\n",
    "queue.pop(0)\n",
    "print(queue)\n",
    "queue.pop(0)\n",
    "\n",
    "print(queue)"
   ]
  },
  {
   "cell_type": "markdown",
   "id": "f5d608cf",
   "metadata": {},
   "source": [
    "### List Comprehension"
   ]
  },
  {
   "cell_type": "code",
   "execution_count": 9,
   "id": "fd5c8628",
   "metadata": {},
   "outputs": [
    {
     "name": "stdout",
     "output_type": "stream",
     "text": [
      "[2, 4, 6, 8, 10, 12, 14, 16, 18, 20, 22, 24, 26, 28, 30, 32, 34, 36, 38, 40, 42, 44, 46, 48, 50, 52, 54, 56, 58, 60, 62, 64, 66, 68, 70, 72, 74, 76, 78, 80, 82, 84, 86, 88, 90, 92, 94, 96, 98, 100]\n"
     ]
    }
   ],
   "source": [
    "even = [i  for i in range(1,101) if i%2==0]\n",
    "\n",
    "print(even)"
   ]
  },
  {
   "cell_type": "code",
   "execution_count": null,
   "id": "1de28b97",
   "metadata": {},
   "outputs": [
    {
     "name": "stdout",
     "output_type": "stream",
     "text": [
      "['APPLE', 'ORANGE', 'BANANA']\n"
     ]
    }
   ],
   "source": [
    "fruits = ['apple', 'orange', 'banana']\n",
    "\n",
    "capital_fruits = [i.upper() for i in fruits]\n",
    "\n",
    "print(capital_fruits)"
   ]
  }
 ],
 "metadata": {
  "kernelspec": {
   "display_name": "Python 3",
   "language": "python",
   "name": "python3"
  },
  "language_info": {
   "codemirror_mode": {
    "name": "ipython",
    "version": 3
   },
   "file_extension": ".py",
   "mimetype": "text/x-python",
   "name": "python",
   "nbconvert_exporter": "python",
   "pygments_lexer": "ipython3",
   "version": "3.10.0"
  }
 },
 "nbformat": 4,
 "nbformat_minor": 5
}
