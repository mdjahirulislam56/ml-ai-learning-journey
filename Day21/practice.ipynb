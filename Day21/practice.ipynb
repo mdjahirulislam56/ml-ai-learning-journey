{
 "cells": [
  {
   "cell_type": "markdown",
   "id": "6ebb82cb",
   "metadata": {},
   "source": [
    "1. Create a Pandas Series from the list **[10, 20, 30, 40, 50]**. Print the Series, its index, and data type. Then create a DataFrame with columns **\"Name\", \"Age\", and \"City\"** containing at least 4 rows of data."
   ]
  },
  {
   "cell_type": "code",
   "execution_count": 2,
   "id": "d16fcfa6",
   "metadata": {},
   "outputs": [
    {
     "name": "stdout",
     "output_type": "stream",
     "text": [
      "0    10\n",
      "1    20\n",
      "2    30\n",
      "3    40\n",
      "4    50\n",
      "dtype: int64\n",
      "RangeIndex(start=0, stop=5, step=1) int64\n",
      "            Name  Age        City\n",
      "0  Jahirul Islam   23     Cumilla\n",
      "1       Mohammed   22  Chittagong\n",
      "2   Nabeel Ahmed   20       Dhaka\n",
      "3   Anamul Haque   23      Sylhet\n"
     ]
    }
   ],
   "source": [
    "import pandas as pd\n",
    "\n",
    "series = pd.Series([10, 20, 30, 40, 50])\n",
    "\n",
    "print(series)\n",
    "\n",
    "index = series.index\n",
    "dtype = series.dtype\n",
    "\n",
    "print(index,dtype)\n",
    "\n",
    "dct = [{ \"Name\": \"Jahirul Islam\", \"Age\":23, \"City\": \"Cumilla\"},\n",
    "       { \"Name\": \"Mohammed\", \"Age\":22, \"City\": \"Chittagong\"},\n",
    "       { \"Name\": \"Nabeel Ahmed\", \"Age\":20, \"City\": \"Dhaka\"},\n",
    "       { \"Name\": \"Anamul Haque\", \"Age\":23, \"City\": \"Sylhet\"}]\n",
    "DataFrame = pd.DataFrame(dct)\n",
    "\n",
    "print(DataFrame)"
   ]
  },
  {
   "cell_type": "markdown",
   "id": "52e38a5c",
   "metadata": {},
   "source": [
    "2. Using any DataFrame, write code to print the number of rows and columns, column data types (**.dtypes**), and summary statistics (**.describe()**)."
   ]
  },
  {
   "cell_type": "code",
   "execution_count": 3,
   "id": "d9d98077",
   "metadata": {},
   "outputs": [
    {
     "name": "stdout",
     "output_type": "stream",
     "text": [
      "Size: 12\n",
      "Row: 4\n",
      "Col: 3\n",
      "Name    object\n",
      "Age      int64\n",
      "City    object\n",
      "dtype: object\n"
     ]
    },
    {
     "data": {
      "text/html": [
       "<div>\n",
       "<style scoped>\n",
       "    .dataframe tbody tr th:only-of-type {\n",
       "        vertical-align: middle;\n",
       "    }\n",
       "\n",
       "    .dataframe tbody tr th {\n",
       "        vertical-align: top;\n",
       "    }\n",
       "\n",
       "    .dataframe thead th {\n",
       "        text-align: right;\n",
       "    }\n",
       "</style>\n",
       "<table border=\"1\" class=\"dataframe\">\n",
       "  <thead>\n",
       "    <tr style=\"text-align: right;\">\n",
       "      <th></th>\n",
       "      <th>Name</th>\n",
       "      <th>Age</th>\n",
       "      <th>City</th>\n",
       "    </tr>\n",
       "  </thead>\n",
       "  <tbody>\n",
       "    <tr>\n",
       "      <th>count</th>\n",
       "      <td>4</td>\n",
       "      <td>4.000000</td>\n",
       "      <td>4</td>\n",
       "    </tr>\n",
       "    <tr>\n",
       "      <th>unique</th>\n",
       "      <td>4</td>\n",
       "      <td>NaN</td>\n",
       "      <td>4</td>\n",
       "    </tr>\n",
       "    <tr>\n",
       "      <th>top</th>\n",
       "      <td>Jahirul Islam</td>\n",
       "      <td>NaN</td>\n",
       "      <td>Cumilla</td>\n",
       "    </tr>\n",
       "    <tr>\n",
       "      <th>freq</th>\n",
       "      <td>1</td>\n",
       "      <td>NaN</td>\n",
       "      <td>1</td>\n",
       "    </tr>\n",
       "    <tr>\n",
       "      <th>mean</th>\n",
       "      <td>NaN</td>\n",
       "      <td>22.000000</td>\n",
       "      <td>NaN</td>\n",
       "    </tr>\n",
       "    <tr>\n",
       "      <th>std</th>\n",
       "      <td>NaN</td>\n",
       "      <td>1.414214</td>\n",
       "      <td>NaN</td>\n",
       "    </tr>\n",
       "    <tr>\n",
       "      <th>min</th>\n",
       "      <td>NaN</td>\n",
       "      <td>20.000000</td>\n",
       "      <td>NaN</td>\n",
       "    </tr>\n",
       "    <tr>\n",
       "      <th>25%</th>\n",
       "      <td>NaN</td>\n",
       "      <td>21.500000</td>\n",
       "      <td>NaN</td>\n",
       "    </tr>\n",
       "    <tr>\n",
       "      <th>50%</th>\n",
       "      <td>NaN</td>\n",
       "      <td>22.500000</td>\n",
       "      <td>NaN</td>\n",
       "    </tr>\n",
       "    <tr>\n",
       "      <th>75%</th>\n",
       "      <td>NaN</td>\n",
       "      <td>23.000000</td>\n",
       "      <td>NaN</td>\n",
       "    </tr>\n",
       "    <tr>\n",
       "      <th>max</th>\n",
       "      <td>NaN</td>\n",
       "      <td>23.000000</td>\n",
       "      <td>NaN</td>\n",
       "    </tr>\n",
       "  </tbody>\n",
       "</table>\n",
       "</div>"
      ],
      "text/plain": [
       "                 Name        Age     City\n",
       "count               4   4.000000        4\n",
       "unique              4        NaN        4\n",
       "top     Jahirul Islam        NaN  Cumilla\n",
       "freq                1        NaN        1\n",
       "mean              NaN  22.000000      NaN\n",
       "std               NaN   1.414214      NaN\n",
       "min               NaN  20.000000      NaN\n",
       "25%               NaN  21.500000      NaN\n",
       "50%               NaN  22.500000      NaN\n",
       "75%               NaN  23.000000      NaN\n",
       "max               NaN  23.000000      NaN"
      ]
     },
     "execution_count": 3,
     "metadata": {},
     "output_type": "execute_result"
    }
   ],
   "source": [
    "print(\"Size:\",DataFrame.size)\n",
    "print(\"Row:\",DataFrame.shape[0])\n",
    "print(\"Col:\",DataFrame.shape[1])\n",
    "\n",
    "print(DataFrame.dtypes)\n",
    "\n",
    "DataFrame.describe(include=\"all\")\n"
   ]
  },
  {
   "cell_type": "markdown",
   "id": "0ce061eb",
   "metadata": {},
   "source": [
    "3. Create a DataFrame using the dictionary below:\n",
    "\n",
    "data = {\n",
    "    'Product': ['Pen', 'Book', 'Eraser', 'Pencil'],\n",
    "    'Price': [10, 50, 5, 7],\n",
    "    'Quantity': [100, 60, 200, 150]\n",
    "}\n",
    "\n",
    "Print **.columns, .index.** Access a single column and one full row."
   ]
  },
  {
   "cell_type": "code",
   "execution_count": 4,
   "id": "c4fdd304",
   "metadata": {},
   "outputs": [
    {
     "name": "stdout",
     "output_type": "stream",
     "text": [
      "  Product  Price  Quantity\n",
      "0     Pen     10       100\n",
      "1    Book     50        60\n",
      "2  Eraser      5       200\n",
      "3  Pencil      7       150\n",
      "Index(['Product', 'Price', 'Quantity'], dtype='object')\n",
      "RangeIndex(start=0, stop=4, step=1)\n"
     ]
    }
   ],
   "source": [
    "data = {\n",
    "    'Product': ['Pen', 'Book', 'Eraser', 'Pencil'],\n",
    "    'Price': [10, 50, 5, 7],\n",
    "    'Quantity': [100, 60, 200, 150]\n",
    "}\n",
    "\n",
    "df = pd.DataFrame(data)\n",
    "\n",
    "print(df)\n",
    "\n",
    "print(df.columns)\n",
    "print(df.index)"
   ]
  },
  {
   "cell_type": "markdown",
   "id": "1735973d",
   "metadata": {},
   "source": [
    "4. Using **.loc[]** and **.iloc[]**, show the first row, the second column, and a 2×2 block    from the middle of your DataFrame."
   ]
  },
  {
   "cell_type": "code",
   "execution_count": 5,
   "id": "8c1167ff",
   "metadata": {},
   "outputs": [
    {
     "name": "stdout",
     "output_type": "stream",
     "text": [
      "Product     Pen\n",
      "Price        10\n",
      "Quantity    100\n",
      "Name: 0, dtype: object\n",
      "0    10\n",
      "1    50\n",
      "2     5\n",
      "3     7\n",
      "Name: Price, dtype: int64\n",
      "   Price  Quantity\n",
      "1     50        60\n",
      "2      5       200\n"
     ]
    }
   ],
   "source": [
    "print(df.loc[0])\n",
    "print(df.iloc[:,1])\n",
    "# print(df.loc[:,\"Price\"])\n",
    "\n",
    "print(df.iloc[1:3,1:3])\n",
    "# print(df.loc[1:3,[\"Price\",\"Quantity\"]])"
   ]
  },
  {
   "cell_type": "markdown",
   "id": "576cd967",
   "metadata": {},
   "source": [
    "5. Create a 4×3 DataFrame of student names and marks. Drop one column using **.drop()**, drop one row by index"
   ]
  },
  {
   "cell_type": "code",
   "execution_count": 6,
   "id": "a58f22f5",
   "metadata": {},
   "outputs": [
    {
     "name": "stdout",
     "output_type": "stream",
     "text": [
      "    Name  Math  Science\n",
      "0  Aisha    85       88\n",
      "1  Rahim    90       84\n",
      "2  Karim    78       80\n",
      "3  Sneha    92       95\n",
      "    Name  Math\n",
      "0  Aisha    85\n",
      "1  Rahim    90\n",
      "2  Karim    78\n",
      "3  Sneha    92\n",
      "    Name  Math\n",
      "0  Aisha    85\n",
      "2  Karim    78\n",
      "3  Sneha    92\n"
     ]
    }
   ],
   "source": [
    "data = {\n",
    "    'Name': ['Aisha', 'Rahim', 'Karim', 'Sneha'],\n",
    "    'Math': [85, 90, 78, 92],\n",
    "    'Science': [88, 84, 80, 95]\n",
    "}\n",
    "\n",
    "df = pd.DataFrame(data)\n",
    "\n",
    "print(df)\n",
    "\n",
    "df.drop(columns=\"Science\",inplace=True)\n",
    "print(df)\n",
    "df.drop(index=1,inplace=True)\n",
    "print(df)"
   ]
  },
  {
   "cell_type": "markdown",
   "id": "39b9f599",
   "metadata": {},
   "source": [
    "6. Create a DataFrame of employees with columns **\"Name\", \"Department\", and \"Salary\"**. Sort it by **\"Salary\"** in ascending order and by **\"Name\"** in descending order."
   ]
  },
  {
   "cell_type": "code",
   "execution_count": 7,
   "id": "4a86f428",
   "metadata": {},
   "outputs": [
    {
     "name": "stdout",
     "output_type": "stream",
     "text": [
      "      Name Department  Salary\n",
      "0    Alice         HR   45000\n",
      "1      Bob         IT   55000\n",
      "2  Charlie    Finance   60000\n",
      "3    Diana  Marketing   50000\n",
      "\n",
      "      Name Department  Salary\n",
      "0    Alice         HR   45000\n",
      "3    Diana  Marketing   50000\n",
      "1      Bob         IT   55000\n",
      "2  Charlie    Finance   60000\n",
      "\n",
      "      Name Department  Salary\n",
      "3    Diana  Marketing   50000\n",
      "2  Charlie    Finance   60000\n",
      "1      Bob         IT   55000\n",
      "0    Alice         HR   45000\n"
     ]
    }
   ],
   "source": [
    "data = {\n",
    "    'Name': ['Alice', 'Bob', 'Charlie', 'Diana'],\n",
    "    'Department': ['HR', 'IT', 'Finance', 'Marketing'],\n",
    "    'Salary': [45000, 55000, 60000, 50000]\n",
    "}\n",
    "\n",
    "df = pd.DataFrame(data)\n",
    "\n",
    "print(df,end=\"\\n\\n\")\n",
    "\n",
    "ascend = df.sort_values(\"Salary\",ascending=True)\n",
    "descend = df.sort_values(\"Name\",ascending=False)\n",
    "# sort = df.sort_values([\"Name\",\"Salary\"],ascending=(0,1))\n",
    "\n",
    "print(ascend,end=\"\\n\\n\")\n",
    "print(descend)\n",
    "# print(sort)"
   ]
  },
  {
   "cell_type": "markdown",
   "id": "9c64030d",
   "metadata": {},
   "source": [
    "7. Create a DataFrame of 8 students with columns **\"Name\"** and **\"Score\"**. Filter and print students with **Score > 60** and those with **Score < 40**."
   ]
  },
  {
   "cell_type": "code",
   "execution_count": 16,
   "id": "4554c971",
   "metadata": {},
   "outputs": [
    {
     "name": "stdout",
     "output_type": "stream",
     "text": [
      "    Name  Score\n",
      "0  Aisha     35\n",
      "1  Rahim     48\n",
      "2  Karim     62\n",
      "3  Sneha     58\n",
      "4   Rafi     56\n",
      "5  Tania     45\n",
      "6  Nabil     11\n",
      "7  Meena     49\n",
      "\n"
     ]
    },
    {
     "data": {
      "text/plain": [
       "1    Rahim\n",
       "3    Sneha\n",
       "4     Rafi\n",
       "5    Tania\n",
       "7    Meena\n",
       "Name: Name, dtype: object"
      ]
     },
     "execution_count": 16,
     "metadata": {},
     "output_type": "execute_result"
    }
   ],
   "source": [
    "data = {\n",
    "    'Name': ['Aisha', 'Rahim', 'Karim', 'Sneha', 'Rafi', 'Tania', 'Nabil', 'Meena'],\n",
    "    'Score': [35, 48, 62, 58, 56, 45, 11, 49]\n",
    "}\n",
    "\n",
    "df = pd.DataFrame(data)\n",
    "\n",
    "print(df,end=\"\\n\\n\")\n",
    "\n",
    "df.loc[((df[\"Score\"]<60) & (df[\"Score\"]>40)),\"Name\"]"
   ]
  }
 ],
 "metadata": {
  "kernelspec": {
   "display_name": "Python 3",
   "language": "python",
   "name": "python3"
  },
  "language_info": {
   "codemirror_mode": {
    "name": "ipython",
    "version": 3
   },
   "file_extension": ".py",
   "mimetype": "text/x-python",
   "name": "python",
   "nbconvert_exporter": "python",
   "pygments_lexer": "ipython3",
   "version": "3.10.0"
  }
 },
 "nbformat": 4,
 "nbformat_minor": 5
}
