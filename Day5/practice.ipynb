{
  "nbformat": 4,
  "nbformat_minor": 0,
  "metadata": {
    "colab": {
      "provenance": []
    },
    "kernelspec": {
      "name": "python3",
      "display_name": "Python 3"
    },
    "language_info": {
      "name": "python"
    }
  },
  "cells": [
    {
      "cell_type": "markdown",
      "source": [
        "**Encapsulation**\n",
        "\n",
        "ATM Machine\n",
        "\n",
        "---\n",
        "\n",
        "- Create an ATM class with private attributes __pin and __balance.\n",
        "\n",
        "- Provide methods check_balance(pin), deposit(pin, amount), and withdraw(pin, amount).\n",
        "\n",
        "- Only allow access if the correct PIN is entered."
      ],
      "metadata": {
        "id": "6Y6uo4bpJDWg"
      }
    },
    {
      "cell_type": "code",
      "execution_count": null,
      "metadata": {
        "colab": {
          "base_uri": "https://localhost:8080/"
        },
        "id": "3HVpm52IxTII",
        "outputId": "b516d58f-8caa-4ae4-8bd7-693b6b18c974"
      },
      "outputs": [
        {
          "output_type": "stream",
          "name": "stdout",
          "text": [
            "Enter PIN to check Balance:1010\n",
            "Incorrect PIN!\n",
            "Enter PIN to withdraw:2244\n",
            "Enter amount to withdraw:10000\n",
            "New Balance: 40000\n",
            "Enter PIN to deposit:1010\n",
            "Incorrect PIN!\n"
          ]
        }
      ],
      "source": [
        "class ATM:\n",
        "  def __init__(self):\n",
        "    self.__pin = 2244\n",
        "    self.__balance = 50000\n",
        "\n",
        "  def check_balance(self,pin):\n",
        "    if self.__pin == pin :\n",
        "      print(f\"Balance: {self.__balance}\")\n",
        "    else:\n",
        "      print(\"Incorrect PIN!\")\n",
        "\n",
        "  def deposit(self, pin):\n",
        "    if self.__pin == pin :\n",
        "      deposit_amount = int(input(\"Enter amount to deposit:\"))\n",
        "      self.__balance += deposit_amount\n",
        "      print(f\"New Balance: {self.__balance}\")\n",
        "    else:\n",
        "      print(\"Incorrect PIN!\")\n",
        "\n",
        "  def withdraw(self,pin):\n",
        "    if self.__pin == pin :\n",
        "      withdraw_amount = int(input(\"Enter amount to withdraw:\"))\n",
        "      self.__balance -= withdraw_amount\n",
        "      print(f\"New Balance: {self.__balance}\")\n",
        "    else:\n",
        "      print(\"Incorrect PIN!\")\n",
        "\n",
        "test = ATM()\n",
        "\n",
        "test.__pin = 1010 ###will not change the pin as it is private variable of ATM\n",
        "\n",
        "PIN = int(input(\"Enter PIN to check Balance:\"))\n",
        "test.check_balance(PIN)\n",
        "PIN = int(input(\"Enter PIN to withdraw:\"))\n",
        "test.withdraw(PIN)\n",
        "PIN = int(input(\"Enter PIN to deposit:\"))\n",
        "test.deposit(PIN)"
      ]
    },
    {
      "cell_type": "markdown",
      "source": [
        "Prime Number **Generator** using **yield**:\n",
        "\n",
        "- Create a generator function primes(limit) that yields all prime numbers up to limit.\n",
        "\n",
        "- Test it by printing primes up to 50."
      ],
      "metadata": {
        "id": "T4QbSZlgPenw"
      }
    },
    {
      "cell_type": "code",
      "source": [
        "def prime_number(limit):\n",
        "  for i in range(2,limit+1):\n",
        "    is_prime = True\n",
        "    for j in range(i-1,1,-1):\n",
        "      if i!=1 and i!=2 and i%j==0:\n",
        "        is_prime = False\n",
        "    if is_prime==True:\n",
        "      yield i\n",
        "\n",
        "prime = prime_number(50)\n",
        "print(prime.__next__())\n",
        "print(prime.__next__())\n",
        "print(prime.__next__())\n",
        "\n",
        "#or with this method\n",
        "for i in prime:\n",
        "  print(i)\n"
      ],
      "metadata": {
        "colab": {
          "base_uri": "https://localhost:8080/"
        },
        "id": "ciTU5pG0NLBq",
        "outputId": "3080c8a7-f434-4d5d-a6e0-d8515d5861d2"
      },
      "execution_count": null,
      "outputs": [
        {
          "output_type": "stream",
          "name": "stdout",
          "text": [
            "2\n",
            "3\n",
            "5\n",
            "7\n",
            "11\n",
            "13\n",
            "17\n",
            "19\n",
            "23\n",
            "29\n",
            "31\n",
            "37\n",
            "41\n",
            "43\n",
            "47\n"
          ]
        }
      ]
    },
    {
      "cell_type": "code",
      "source": [
        "class User:\n",
        "\n",
        "    def __init__(self, name, age, money):\n",
        "        self._name = name\n",
        "        self._age = age\n",
        "        self.__money = money\n",
        "\n",
        "    @property #getter\n",
        "    def age(self):\n",
        "        return self._age\n",
        "\n",
        "    @property #getter\n",
        "    def money(self):\n",
        "        return self.__money\n",
        "\n",
        "    @money.setter #setter\n",
        "    def money(self, money):\n",
        "        self.__money = money\n",
        "\n",
        "user1 = User(\"Jahirul Islam\",23,14000)\n",
        "\n",
        "print(user1.money)\n",
        "user1.money = 12000\n",
        "print(user1.money)"
      ],
      "metadata": {
        "colab": {
          "base_uri": "https://localhost:8080/"
        },
        "id": "yzCAtDmnbG9t",
        "outputId": "01df1826-cc84-4c02-b63e-dff6797d619b"
      },
      "execution_count": null,
      "outputs": [
        {
          "output_type": "stream",
          "name": "stdout",
          "text": [
            "14000\n",
            "12000\n"
          ]
        }
      ]
    },
    {
      "cell_type": "markdown",
      "source": [
        " **Integrated OOP Practice Problem: Banking System Scenario:**\n",
        "\n",
        "You should design a Banking system with multiple types of accounts: BankAccount (base class) and SavingsAccount / CurrentAccount (derived classes).\n",
        "\n",
        "You need to implement the following features using OOP concepts:\n",
        "\n",
        "**Requirements:**\n",
        "\n",
        "1️⃣ Base Class: BankAccount\n",
        "\n",
        "- Attributes: account_number, account_holder, __balance (private)\n",
        "\n",
        "- Methods:\n",
        "\n",
        "1. deposit(amount) → adds to balance\n",
        "\n",
        "2. withdraw(amount) → subtracts from balance, cannot go negative\n",
        "\n",
        "3. get_balance() → returns balance\n",
        "\n",
        "- Implement a @property for balance to safely access it.\n",
        "\n",
        "- Implement a property deleter that resets balance to zero with a message.\n",
        "\n",
        "-  Static method: bank_info() → prints bank name and branch.\n",
        "\n",
        "\n",
        "2️⃣ Derived Classes: SavingsAccount and CurrentAccount\n",
        "\n",
        "**SavingsAccount:**\n",
        "\n",
        "- Additional attribute: interest_rate\n",
        "\n",
        "- Override withdraw method: cannot withdraw more than 50% of balance at once\n",
        "\n",
        "- Overload deposit method: allow deposit either single value or multiple deposits (list of amounts)\n",
        "\n",
        "**CurrentAccount:**\n",
        "\n",
        "- Additional attribute: overdraft_limit\n",
        "\n",
        "- Override withdraw: allow withdrawal beyond balance up to overdraft limit\n",
        "\n",
        "- Implement polymorphism: account_summary() → prints a summary differently for SavingsAccount and CurrentAccount\n",
        "\n",
        "3️⃣ Polymorphism\n",
        "\n",
        "- Both derived classes should have their own implementation of account_summary() demonstrating polymorphism.\n",
        "\n",
        "- Use the same method name, but behavior differs.\n",
        "\n",
        "4️⃣ Testing / Example Usage\n",
        "\n",
        "- Create objects for SavingsAccount and CurrentAccount.\n",
        "\n",
        "- Test deposit overloading: deposit a single amount and multiple amounts.\n",
        "\n",
        "- Test withdrawal rules for both account types.\n",
        "\n",
        "- Access balance via property.\n",
        "\n",
        "- Delete balance using property deleter.\n",
        "\n",
        "- Call the static method for bank info.\n",
        "\n",
        "- Demonstrate polymorphism by calling account_summary() on both objects.\n",
        "\n",
        "🔹 Hints / Implementation Tips\n",
        "\n",
        "- Method overloading in Python can be simulated by using default arguments or *args.\n",
        "\n",
        "- Overriding happens naturally when you redefine a method in a derived class.\n",
        "\n",
        "- Use @property for safe access to private attributes.\n",
        "\n",
        "- Static methods are defined with @staticmethod.\n",
        "\n",
        "- Polymorphism is achieved by having the same method name (account_summary) behave differently in derived classes."
      ],
      "metadata": {
        "id": "Si219okjkmQc"
      }
    },
    {
      "cell_type": "code",
      "source": [
        "class BankAccount:\n",
        "    def __init__(self, account_number, account_holder, balance=0):\n",
        "        self.account_number = account_number\n",
        "        self.account_holder = account_holder\n",
        "        self.__balance = balance if balance else 30000\n",
        "\n",
        "    @property\n",
        "    def balance(self):\n",
        "        return self.__balance\n",
        "\n",
        "    @balance.setter\n",
        "    def balance(self, amount):\n",
        "        self.__balance = amount\n",
        "        print(f\"Your new balance is {self.__balance}\")\n",
        "\n",
        "    @balance.deleter\n",
        "    def balance(self):\n",
        "        self.__balance = 0\n",
        "        print(\"Balance reset to 0!\")\n",
        "\n",
        "    def deposit(self, amount):\n",
        "        self.__balance += amount\n",
        "        print(\"Deposit successful!\")\n",
        "\n",
        "    def withdraw(self, amount):\n",
        "        if amount <= self.__balance:\n",
        "            self.__balance -= amount\n",
        "            print(\"Withdrawal successful!\")\n",
        "        else:\n",
        "            print(\"Withdrawal unsuccessful!\")\n",
        "\n",
        "    @staticmethod\n",
        "    def bank_info():\n",
        "        print(\"Bank Name: Islami Bank Bangladesh Limited.\\nBranch: Muradpur\")\n",
        "\n",
        "    def account_summary(self):\n",
        "        print(f\"Account Number: {self.account_number}\")\n",
        "        print(f\"Account Holder: {self.account_holder}\")\n",
        "        print(f\"Balance: {self.__balance}\")\n",
        "\n",
        "\n",
        "class SavingsAccount(BankAccount):\n",
        "    def __init__(self, account_number, account_holder, balance, interest_rate):\n",
        "        super().__init__(account_number, account_holder, balance)\n",
        "        self.interest_rate = interest_rate\n",
        "\n",
        "    def withdraw(self, amount):\n",
        "        balance = self.balance\n",
        "        if 0.5 * balance >= amount:\n",
        "            super().withdraw(amount)\n",
        "        else:\n",
        "            print(\"Withdraw unsuccessful! Minimum balance rule.\")\n",
        "\n",
        "    def deposit(self, amount, bonus=0):\n",
        "        super().deposit(amount + bonus)\n",
        "\n",
        "    def account_summary(self):\n",
        "        super().account_summary()\n",
        "        print(f\"Interest Rate: {self.interest_rate}%\")\n",
        "\n",
        "\n",
        "class CurrentAccount(SavingsAccount):\n",
        "    def __init__(self, account_number, account_holder, balance, interest_rate, overdraft_limit):\n",
        "        super().__init__(account_number, account_holder, balance, interest_rate)\n",
        "        self.overdraft_limit = overdraft_limit\n",
        "\n",
        "    def withdraw(self, amount):\n",
        "        if self.balance >= amount:\n",
        "            super().withdraw(amount)\n",
        "        elif self.balance + self.overdraft_limit >= amount:\n",
        "            overdraft_used = amount - self.balance\n",
        "            super().withdraw(self.balance)\n",
        "            print(f\"Used overdraft: {overdraft_used}\")\n",
        "        else:\n",
        "            print(\"Exceeds overdraft limit!\")\n",
        "\n",
        "    def account_summary(self):\n",
        "        super().account_summary()\n",
        "        print(f\"Overdraft Limit: {self.overdraft_limit}\")\n"
      ],
      "metadata": {
        "id": "cI22LD0_cTJk"
      },
      "execution_count": 18,
      "outputs": []
    },
    {
      "cell_type": "code",
      "source": [
        "BankAccount.bank_info()\n",
        "\n",
        "b = BankAccount(\"101\", \"Alice\", 5000)\n",
        "s = SavingsAccount(\"202\", \"Bob\", 4000, 5)\n",
        "c = CurrentAccount(\"303\", \"Charlie\", 1000, 2, 2000)\n",
        "\n",
        "print(\"\\n--- Bank Account ---\")\n",
        "b.account_summary()\n",
        "\n",
        "print(\"\\n--- Savings Account ---\")\n",
        "s.account_summary()\n",
        "s.deposit(500, bonus=100)\n",
        "s.withdraw(1000)\n",
        "\n",
        "print(\"\\n--- Current Account ---\")\n",
        "c.account_summary()\n",
        "c.withdraw(2500)\n"
      ],
      "metadata": {
        "colab": {
          "base_uri": "https://localhost:8080/"
        },
        "id": "-FSvduvkzgin",
        "outputId": "7d671644-8e99-4234-96de-ac864a704c11"
      },
      "execution_count": 21,
      "outputs": [
        {
          "output_type": "stream",
          "name": "stdout",
          "text": [
            "Bank Name: Islami Bank Bangladesh Limited.\n",
            "Branch: Muradpur\n",
            "\n",
            "--- Bank Account ---\n",
            "Account Number: 101\n",
            "Account Holder: Alice\n",
            "Balance: 5000\n",
            "\n",
            "--- Savings Account ---\n",
            "Account Number: 202\n",
            "Account Holder: Bob\n",
            "Balance: 4000\n",
            "Interest Rate: 5%\n",
            "Deposit successful!\n",
            "Withdrawal successful!\n",
            "\n",
            "--- Current Account ---\n",
            "Account Number: 303\n",
            "Account Holder: Charlie\n",
            "Balance: 1000\n",
            "Interest Rate: 2%\n",
            "Overdraft Limit: 2000\n",
            "Withdraw unsuccessful! Minimum balance rule.\n",
            "Used overdraft: 1500\n"
          ]
        }
      ]
    }
  ]
}