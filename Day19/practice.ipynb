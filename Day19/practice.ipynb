{
 "cells": [
  {
   "cell_type": "markdown",
   "id": "ee3fe781",
   "metadata": {},
   "source": [
    "### Array Creation and Manipulation\n",
    "\n",
    "1. Create a NumPy array of shape (5, 5) filled with random integers between 1 and 20. Replace all the elements in the third column with 1.\n",
    "2. Create a NumPy array of shape (4, 4) with values from 1 to 16. Replace the diagonal elements with 0."
   ]
  },
  {
   "cell_type": "code",
   "execution_count": 7,
   "id": "2b17b462",
   "metadata": {},
   "outputs": [
    {
     "name": "stdout",
     "output_type": "stream",
     "text": [
      "[[12  8 18  8  9]\n",
      " [ 5  7  2  4 14]\n",
      " [ 7 10  1 10 15]\n",
      " [ 1  3  7 13 19]\n",
      " [18 17  4  8  1]]\n",
      "[[12  8  1  8  9]\n",
      " [ 5  7  1  4 14]\n",
      " [ 7 10  1 10 15]\n",
      " [ 1  3  1 13 19]\n",
      " [18 17  1  8  1]]\n",
      "[[ 0  3  8  5]\n",
      " [15  0 10 13]\n",
      " [15 13  0 10]\n",
      " [13  2  6  0]]\n"
     ]
    }
   ],
   "source": [
    "import numpy as np\n",
    "\n",
    "arr = np.random.randint(1,20,(5,5))\n",
    "print(arr)\n",
    "\n",
    "arr[::,2:3:] = 1\n",
    "\n",
    "print(arr)\n",
    "\n",
    "arr2 = np.random.randint(1,16,(4,4))\n",
    "np.fill_diagonal(arr2,0)\n",
    "print(arr2)"
   ]
  },
  {
   "cell_type": "markdown",
   "id": "13dd171b",
   "metadata": {},
   "source": [
    "### Array Indexing and Slicing\n",
    "\n",
    "1. Create a NumPy array of shape (6, 6) with values from 1 to 36. Extract the sub-array consisting of the 3rd to 5th rows and 2nd to 4th columns.\n",
    "2. Create a NumPy array of shape (5, 5) with random integers. Extract the elements on the border."
   ]
  },
  {
   "cell_type": "code",
   "execution_count": 28,
   "id": "bc13bf6b",
   "metadata": {},
   "outputs": [
    {
     "name": "stdout",
     "output_type": "stream",
     "text": [
      "[[21 14 10  7 33  3]\n",
      " [ 6 17 25 23 25 17]\n",
      " [14 24  4 20  1  4]\n",
      " [30 28  8 28 28 25]\n",
      " [25 14 10 25 12  7]\n",
      " [21  6  9 30  2 20]]\n",
      "[[24  4 20]\n",
      " [28  8 28]\n",
      " [14 10 25]]\n",
      "[[32  4 17  1 37]\n",
      " [48  3 19 49 15]\n",
      " [16 38 24 47 22]\n",
      " [18 26 48 15 16]\n",
      " [49  9 21 33  4]]\n",
      "[ 1  4  9 15 16 17 18 21 22 32 33 37 48 49]\n"
     ]
    }
   ],
   "source": [
    "arr3 = np.random.randint(1, 36, (6,6))\n",
    "\n",
    "sub_array = arr3[2:5:,1:4:]\n",
    "\n",
    "print(arr3)\n",
    "print(sub_array)\n",
    "\n",
    "\n",
    "arr4 = np.random.randint(1, 50, (5,5))\n",
    "\n",
    "print(arr4)\n",
    "\n",
    "border = np.concatenate((arr4[0,],arr4[::,0],arr4[-1,],arr4[::,-1]))\n",
    "border_elements = np.unique(border)\n",
    "print(border_elements)"
   ]
  },
  {
   "cell_type": "markdown",
   "id": "29bb9331",
   "metadata": {},
   "source": [
    "### Array Operations\n",
    "\n",
    "1. Create two NumPy arrays of shape (3, 4) filled with random integers. Perform element-wise addition, subtraction, multiplication, and division.\n",
    "2. Create a NumPy array of shape (4, 4) with values from 1 to 16. Compute the row-wise and column-wise sum."
   ]
  },
  {
   "cell_type": "code",
   "execution_count": 35,
   "id": "f103792c",
   "metadata": {},
   "outputs": [
    {
     "name": "stdout",
     "output_type": "stream",
     "text": [
      "[[ 50 132 103 142]\n",
      " [ 49 119 104  70]\n",
      " [ 94  36 116  93]]\n",
      "[[-34  -4 -77  34]\n",
      " [  3  41 -30  20]\n",
      " [ 82 -34  -6 -71]]\n",
      "[[ 336 4352 1170 4752]\n",
      " [ 598 3120 2479 1125]\n",
      " [ 528   35 3355  902]]\n",
      "[[ 0.19047619  0.94117647  0.14444444  1.62962963]\n",
      " [ 1.13043478  2.05128205  0.55223881  1.8       ]\n",
      " [14.66666667  0.02857143  0.90163934  0.13414634]]\n",
      "[[ 4  1  9 13]\n",
      " [ 8  1  4  6]\n",
      " [10 14  3  3]\n",
      " [ 9  4 11 11]]\n",
      "sum of elements in row 0: 27\n",
      "sum of elements in row 1: 19\n",
      "sum of elements in row 2: 30\n",
      "sum of elements in row 3: 35\n",
      "sum of elements in column 0: 31\n",
      "sum of elements in column 1: 20\n",
      "sum of elements in column 2: 27\n",
      "sum of elements in column 3: 33\n",
      "[27 19 30 35] [31 20 27 33]\n"
     ]
    }
   ],
   "source": [
    "array = np.random.randint(1,100,(3,4))\n",
    "array2 = np.random.randint(1,100,(3,4))\n",
    "\n",
    "array_add = array + array2\n",
    "array_sub = array - array2\n",
    "array_mult = array * array2\n",
    "array_div = array / array2\n",
    "\n",
    "# print(array)\n",
    "# print(array2)\n",
    "print(array_add)\n",
    "print(array_sub)\n",
    "print(array_mult)\n",
    "print(array_div)\n",
    "\n",
    "array3 = np.random.randint(1,16,(4,4))\n",
    "\n",
    "print(array3)\n",
    "\n",
    "for i in range(4):\n",
    "    print(f\"sum of elements in row {i}: {np.sum(array3[i,])}\")\n",
    "    \n",
    "for i in range(4):\n",
    "    print(f\"sum of elements in column {i}: {np.sum(array3[::,i])}\")\n",
    "\n",
    "#Alternative way:\n",
    "row_sum = np.sum(array3,axis=1)\n",
    "col_sum = np.sum(array3,axis=0)\\\n",
    "    \n",
    "print(row_sum,col_sum)"
   ]
  },
  {
   "cell_type": "markdown",
   "id": "4744c155",
   "metadata": {},
   "source": [
    "### Statistical Operations\n",
    "\n",
    "1. Create a NumPy array of shape (5, 5) filled with random integers. Compute the mean, median, standard deviation, and variance of the array."
   ]
  },
  {
   "cell_type": "code",
   "execution_count": 37,
   "id": "5a7b0c64",
   "metadata": {},
   "outputs": [
    {
     "name": "stdout",
     "output_type": "stream",
     "text": [
      "[[32  4 17  1 37]\n",
      " [48  3 19 49 15]\n",
      " [16 38 24 47 22]\n",
      " [18 26 48 15 16]\n",
      " [49  9 21 33  4]]\n",
      "24.44 21.0 15.294652660325438 233.9264\n"
     ]
    }
   ],
   "source": [
    "print(arr4)\n",
    "\n",
    "mean = np.mean(arr4)\n",
    "median = np.median(arr4)\n",
    "stand = np.std(arr4)\n",
    "variance = np.var(arr4)\n",
    "\n",
    "print(mean,median,stand,variance)"
   ]
  },
  {
   "cell_type": "markdown",
   "id": "b17fa98f",
   "metadata": {},
   "source": [
    "### Broadcasting\n",
    "\n",
    "1. Create a NumPy array of shape (3, 3) filled with random integers. Add a 1D array of shape (3,) to each row of the 2D array using broadcasting.\n",
    "2. Create a NumPy array of shape (4, 4) filled with random integers. Subtract a 1D array of shape (4,) from each column of the 2D array using broadcasting."
   ]
  },
  {
   "cell_type": "code",
   "execution_count": 53,
   "id": "1ea12e65",
   "metadata": {},
   "outputs": [
    {
     "name": "stdout",
     "output_type": "stream",
     "text": [
      "[1 4 5]\n",
      "[[5 1 1]\n",
      " [2 5 2]\n",
      " [1 1 2]]\n",
      "[[6 5 6]\n",
      " [3 9 7]\n",
      " [2 5 7]]\n",
      "[[ 5 10  9  6]\n",
      " [ 4  7  8 15]\n",
      " [14  4  6  5]\n",
      " [ 3 14  3 13]]\n",
      "[[1]\n",
      " [5]\n",
      " [4]\n",
      " [3]]\n",
      "[[ 4  5  5  3]\n",
      " [ 3  2  4 12]\n",
      " [13 -1  2  2]\n",
      " [ 2  9 -1 10]]\n"
     ]
    }
   ],
   "source": [
    "three = np.random.randint(1,6,(3,3))\n",
    "one = np.random.randint(1,6,3)\n",
    "# one = np.array([1,2,3])\n",
    "print(one)\n",
    "print(three)\n",
    "print(three+one)\n",
    "\n",
    "arr2 = np.random.randint(1,16,(4,4))\n",
    "one2 = np.random.randint(1,6,(4,))\n",
    "\n",
    "one2_col = one2.reshape(4,1)\n",
    "print(arr2)\n",
    "print(one2_col)\n",
    "print(arr2-one2)\n",
    "# print(np.concatenate((arr2,one2),axis=0))\n"
   ]
  },
  {
   "cell_type": "markdown",
   "id": "26719a73",
   "metadata": {},
   "source": [
    "### Linear Algebra\n",
    "\n",
    "1. Create two NumPy arrays of shape (2, 3) and (3, 2). Perform matrix multiplication on these arrays."
   ]
  },
  {
   "cell_type": "code",
   "execution_count": 56,
   "id": "a67d2aa9",
   "metadata": {},
   "outputs": [
    {
     "name": "stdout",
     "output_type": "stream",
     "text": [
      "[[63 79]\n",
      " [46 54]]\n"
     ]
    }
   ],
   "source": [
    "array = np.random.randint(1,10,(2,3))\n",
    "array2 = np.random.randint(1,10,(3,2))\n",
    "\n",
    "matrix_mult = np.dot(array,array2)\n",
    "\n",
    "print(matrix_mult)"
   ]
  },
  {
   "cell_type": "markdown",
   "id": "5519cc27",
   "metadata": {},
   "source": [
    "### Advanced Array Manipulation\n",
    "\n",
    "1. Create a NumPy array of shape (3, 3) with values from 1 to 9. Reshape the array to shape (1, 9) and then to shape (9, 1).\n",
    "2. Create a NumPy array of shape (5, 5) filled with random integers. Flatten the array and then reshape it back to (5, 5)."
   ]
  },
  {
   "cell_type": "code",
   "execution_count": 58,
   "id": "a0b10a8f",
   "metadata": {},
   "outputs": [
    {
     "name": "stdout",
     "output_type": "stream",
     "text": [
      "[[5 2 1]\n",
      " [8 4 5]\n",
      " [6 3 6]]\n",
      "[[5 2 1 8 4 5 6 3 6]]\n",
      "[[5]\n",
      " [2]\n",
      " [1]\n",
      " [8]\n",
      " [4]\n",
      " [5]\n",
      " [6]\n",
      " [3]\n",
      " [6]]\n",
      "[[67 74 16 76 20]\n",
      " [79  9 24 48 14]\n",
      " [85 74 57 66 84]\n",
      " [43 88 53 47 61]\n",
      " [50 61 55 95 81]]\n",
      "[67 74 16 76 20 79  9 24 48 14 85 74 57 66 84 43 88 53 47 61 50 61 55 95\n",
      " 81]\n",
      "[[67 74 16 76 20]\n",
      " [79  9 24 48 14]\n",
      " [85 74 57 66 84]\n",
      " [43 88 53 47 61]\n",
      " [50 61 55 95 81]]\n"
     ]
    }
   ],
   "source": [
    "array = np.random.randint(1,9,(3,3))\n",
    "print(array)\n",
    "array = array.reshape(1,9)\n",
    "print(array)\n",
    "array = array.reshape(9,1)\n",
    "print(array)\n",
    "\n",
    "n_array = np.random.randint(1,100,(5,5))\n",
    "print(n_array)\n",
    "n_array = n_array.flatten()\n",
    "print(n_array)\n",
    "n_array = n_array.reshape(5,5)\n",
    "print(n_array)\n",
    "\n"
   ]
  },
  {
   "cell_type": "markdown",
   "id": "13dc9a59",
   "metadata": {},
   "source": [
    "### **Boolean Indexing**\n",
    "\n",
    "1. Create a NumPy array of shape (4, 4) filled with random integers. Use boolean indexing to set all elements greater than 10 to 10."
   ]
  },
  {
   "cell_type": "code",
   "execution_count": 61,
   "id": "15f1a6be",
   "metadata": {},
   "outputs": [
    {
     "name": "stdout",
     "output_type": "stream",
     "text": [
      "[[13 19 14  4]\n",
      " [ 1  6  9  8]\n",
      " [ 7 13 19 19]\n",
      " [ 3 11  1  2]]\n",
      "[[10 10 10  4]\n",
      " [ 1  6  9  8]\n",
      " [ 7 10 10 10]\n",
      " [ 3 10  1  2]]\n"
     ]
    }
   ],
   "source": [
    "array = np.random.randint(1,20,(4,4))\n",
    "\n",
    "print(array)\n",
    "\n",
    "print(np.where(array>10,10,array))"
   ]
  }
 ],
 "metadata": {
  "kernelspec": {
   "display_name": "Python 3",
   "language": "python",
   "name": "python3"
  },
  "language_info": {
   "codemirror_mode": {
    "name": "ipython",
    "version": 3
   },
   "file_extension": ".py",
   "mimetype": "text/x-python",
   "name": "python",
   "nbconvert_exporter": "python",
   "pygments_lexer": "ipython3",
   "version": "3.10.0"
  }
 },
 "nbformat": 4,
 "nbformat_minor": 5
}
