{
 "cells": [
  {
   "cell_type": "markdown",
   "id": "e86a46ae",
   "metadata": {},
   "source": [
    "1. You have a list of temperatures recorded in Celsius. Your task is to:\n",
    "- Create a NumPy array from the given list.\n",
    "- Convert all temperatures from Celsius to Fahrenheit. The formula is F = C* 1.8 + 32.\n",
    "- Print the new Fahrenheit array."
   ]
  },
  {
   "cell_type": "code",
   "execution_count": 1,
   "id": "811a8183",
   "metadata": {},
   "outputs": [
    {
     "name": "stdout",
     "output_type": "stream",
     "text": [
      "[77.  86.  95.  82.4 96.8 68. ]\n"
     ]
    }
   ],
   "source": [
    "import numpy as np\n",
    "\n",
    "temperature = [25, 30, 35, 28, 36, 20]\n",
    "\n",
    "array_celsius = np.array(temperature)\n",
    "\n",
    "array_fahrenheit = array_celsius* 1.8 +32\n",
    "\n",
    "print(array_fahrenheit)"
   ]
  },
  {
   "cell_type": "markdown",
   "id": "bc3f2e53",
   "metadata": {},
   "source": [
    "2.  You have a Python list containing the lap times (in seconds) for an athlete.\n",
    "\n",
    "Task:\n",
    "\n",
    "- Convert the list into a NumPy array.\n",
    "- Print the array's shape, size, and data type.\n",
    "- The athlete wants to see their times in minutes. Create a new array by dividing all the lap times by 60.\n",
    "- Print the new array of lap times in minutes."
   ]
  },
  {
   "cell_type": "code",
   "execution_count": 2,
   "id": "ed9e6e30",
   "metadata": {},
   "outputs": [
    {
     "name": "stdout",
     "output_type": "stream",
     "text": [
      "(5,) 5 float64\n",
      "[1.20833333 1.18       1.165      1.18833333 1.16833333]\n"
     ]
    }
   ],
   "source": [
    "lap_times = [72.5, 70.8, 69.9, 71.3, 70.1]\n",
    "\n",
    "array_lap = np.array(lap_times)\n",
    "\n",
    "print(array_lap.shape, array_lap.size, array_lap.dtype)\n",
    "\n",
    "lap_min = array_lap/60\n",
    "\n",
    "print(lap_min)"
   ]
  }
 ],
 "metadata": {
  "kernelspec": {
   "display_name": "Python 3",
   "language": "python",
   "name": "python3"
  },
  "language_info": {
   "codemirror_mode": {
    "name": "ipython",
    "version": 3
   },
   "file_extension": ".py",
   "mimetype": "text/x-python",
   "name": "python",
   "nbconvert_exporter": "python",
   "pygments_lexer": "ipython3",
   "version": "3.10.0"
  }
 },
 "nbformat": 4,
 "nbformat_minor": 5
}
