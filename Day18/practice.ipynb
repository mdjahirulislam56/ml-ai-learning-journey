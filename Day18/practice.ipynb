{
 "cells": [
  {
   "cell_type": "markdown",
   "id": "62d744e7",
   "metadata": {},
   "source": [
    "1 . Create a 1D, 2D, and 3D NumPy array and print their dimensions and shapes."
   ]
  },
  {
   "cell_type": "code",
   "execution_count": 1,
   "id": "58bd10bf",
   "metadata": {},
   "outputs": [
    {
     "name": "stdout",
     "output_type": "stream",
     "text": [
      "1\n",
      "2\n",
      "3\n",
      "(8,)\n",
      "(2, 4)\n",
      "(2, 2, 4)\n",
      "8\n",
      "8\n",
      "16\n",
      "int64\n",
      "int64\n",
      "int64\n"
     ]
    }
   ],
   "source": [
    "import numpy as np\n",
    "one_D = np.array([2,3,4,5,6,7,8,9]) #1D array\n",
    "\n",
    "two_D = np.array([[2,3,4,5],\n",
    "                 [6,7,8,9]]) #2D array\n",
    "three_D = np.array([[[2,3,4,5],\n",
    "                    [6,7,8,9] ],\n",
    "                   [[2,3,4,5],\n",
    "                    [6,7,8,9] ]]) #3D array\n",
    "\n",
    "#Dimensions\n",
    "print(one_D.ndim)\n",
    "print(two_D.ndim)\n",
    "print(three_D.ndim)\n",
    "\n",
    "#Shapes\n",
    "print(one_D.shape)\n",
    "print(two_D.shape)\n",
    "print(three_D.shape)\n",
    "\n",
    "#Size\n",
    "print(one_D.size)\n",
    "print(two_D.size)\n",
    "print(three_D.size)\n",
    "\n",
    "#Type\n",
    "print(one_D.dtype)\n",
    "print(two_D.dtype)\n",
    "print(three_D.dtype)"
   ]
  },
  {
   "cell_type": "markdown",
   "id": "354e71dd",
   "metadata": {},
   "source": [
    "2 . Create:\n",
    "- an array of zeros of shape (3,3)\n",
    "\n",
    "- an array of ones of shape (2,5)\n",
    "\n",
    "- an array filled with 7"
   ]
  },
  {
   "cell_type": "code",
   "execution_count": 50,
   "id": "050aaf84",
   "metadata": {},
   "outputs": [
    {
     "name": "stdout",
     "output_type": "stream",
     "text": [
      "[[0. 0. 0.]\n",
      " [0. 0. 0.]\n",
      " [0. 0. 0.]]\n",
      "[[1. 1. 1. 1. 1.]\n",
      " [1. 1. 1. 1. 1.]]\n",
      "[7 7 7 7 7 7 7 7]\n",
      "[[7 7 7 7]\n",
      " [7 7 7 7]]\n",
      "[[[7 7 7 7]\n",
      "  [7 7 7 7]]\n",
      "\n",
      " [[7 7 7 7]\n",
      "  [7 7 7 7]]]\n"
     ]
    }
   ],
   "source": [
    "zero = np.zeros(shape=(3,3))\n",
    "one = np.ones(shape=(2,5))\n",
    "\n",
    "array1 = np.full_like(a=one_D, fill_value=7)\n",
    "array2 = np.full_like(a=two_D, fill_value=7)\n",
    "array3 = np.full_like(a=three_D, fill_value=7)\n",
    "\n",
    "\n",
    "print(zero)\n",
    "print(one)\n",
    "print(array1)\n",
    "print(array2)\n",
    "print(array3)"
   ]
  },
  {
   "cell_type": "markdown",
   "id": "2eca7c70",
   "metadata": {},
   "source": [
    "3 . Create an array of even numbers between 10 and 50 using arange."
   ]
  },
  {
   "cell_type": "code",
   "execution_count": 24,
   "id": "05529a4d",
   "metadata": {},
   "outputs": [
    {
     "name": "stdout",
     "output_type": "stream",
     "text": [
      "[10 12 14 16 18 20 22 24 26 28 30 32 34 36 38 40 42 44 46 48 50]\n",
      "[10. 12. 14. 16. 18. 20. 22. 24. 26. 28. 30. 32. 34. 36. 38. 40. 42. 44.\n",
      " 46. 48. 50.]\n",
      "[1.00000000e+10 6.55128557e+10 4.29193426e+11 2.81176870e+12\n",
      " 1.84206997e+13 1.20679264e+14 7.90604321e+14 5.17947468e+15\n",
      " 3.39322177e+16 2.22299648e+17 1.45634848e+18 9.54095476e+18\n",
      " 6.25055193e+19 4.09491506e+20 2.68269580e+21 1.75751062e+22\n",
      " 1.15139540e+23 7.54312006e+23 4.94171336e+24 3.23745754e+25\n",
      " 2.12095089e+26 1.38949549e+27 9.10298178e+27 5.96362332e+28\n",
      " 3.90693994e+29 2.55954792e+30 1.67683294e+31 1.09854114e+32\n",
      " 7.19685673e+32 4.71486636e+33 3.08884360e+34 2.02358965e+35\n",
      " 1.32571137e+36 8.68511374e+36 5.68986603e+37 3.72759372e+38\n",
      " 2.44205309e+39 1.59985872e+40 1.04811313e+41 6.86648845e+41\n",
      " 4.49843267e+42 2.94705170e+43 1.93069773e+44 1.26485522e+45\n",
      " 8.28642773e+45 5.42867544e+46 3.55648031e+47 2.32995181e+48\n",
      " 1.52641797e+49 1.00000000e+50]\n"
     ]
    }
   ],
   "source": [
    "#using arange\n",
    "even_num = np.arange(10,51,2)\n",
    "\n",
    "#using linspace\n",
    "even_num1 = np.linspace(10,50,21) #Divisions = ((50-10)/2)+1\n",
    "\n",
    "# using logspace\n",
    "ten_to_fifty = np.logspace(10,50,base=10)\n",
    "\n",
    "print(even_num)\n",
    "print(even_num1)\n",
    "print(ten_to_fifty)"
   ]
  },
  {
   "cell_type": "markdown",
   "id": "3e023e29",
   "metadata": {},
   "source": [
    "4 . Create a 4×4 matrix from 0–15. Then , extract:\n",
    "- the first row\n",
    "\n",
    "- the last column\n",
    "\n",
    "- a 2×2 subarray from the center"
   ]
  },
  {
   "cell_type": "code",
   "execution_count": 31,
   "id": "ab3a0e67",
   "metadata": {},
   "outputs": [
    {
     "name": "stdout",
     "output_type": "stream",
     "text": [
      "[[ 3  9  2  9]\n",
      " [ 8 14  9 10]\n",
      " [ 1  2  8  4]\n",
      " [ 1 14  5  4]]\n",
      "[[3 9 2 9]]\n",
      "[[ 9]\n",
      " [10]\n",
      " [ 4]\n",
      " [ 4]]\n",
      "[[14  9]\n",
      " [ 2  8]]\n"
     ]
    }
   ],
   "source": [
    "mat = np.random.randint(0,15,(4,4))\n",
    "print(mat)\n",
    "\n",
    "first_row = mat[:1:,::]\n",
    "print(first_row)\n",
    "\n",
    "last_column = mat[::,3:4:]\n",
    "print(last_column)\n",
    "\n",
    "sub_array = mat[1:3:,1:3:]\n",
    "print(sub_array)"
   ]
  },
  {
   "cell_type": "markdown",
   "id": "3357cc16",
   "metadata": {},
   "source": [
    "5 . Add a 1D array [1,2,3] to each row of a 3×3 matrix."
   ]
  },
  {
   "cell_type": "code",
   "execution_count": 45,
   "id": "e3b5cf3f",
   "metadata": {},
   "outputs": [
    {
     "name": "stdout",
     "output_type": "stream",
     "text": [
      "[[64 30  5]\n",
      " [34 95  3]\n",
      " [90 12 36]]\n",
      "[1 2 3]\n",
      "[[65 32  8]\n",
      " [35 97  6]\n",
      " [91 14 39]]\n"
     ]
    }
   ],
   "source": [
    "threexthree = np.random.randint(1,100,(3,3))\n",
    "one_array = np.array([1,2,3])\n",
    "\n",
    "add_row =  threexthree+one_array\n",
    "\n",
    "print(threexthree)\n",
    "print(one_array)\n",
    "print(add_row)"
   ]
  },
  {
   "cell_type": "markdown",
   "id": "4e53997d",
   "metadata": {},
   "source": [
    "6 . Given two arrays A and B, compute:\n",
    "- (A + B) / 2\n",
    "- A* *2 + B**2"
   ]
  },
  {
   "cell_type": "code",
   "execution_count": 54,
   "id": "585150d7",
   "metadata": {},
   "outputs": [
    {
     "name": "stdout",
     "output_type": "stream",
     "text": [
      "[[66.5 42.5 44.5 46. ]\n",
      " [49.  40.  37.  63.5]\n",
      " [51.  34.  62.5 46. ]]\n",
      "[[10957  4913  5065  7594]\n",
      " [ 4874  5000  3250 10445]\n",
      " [ 9074  2890  8653  5032]]\n"
     ]
    }
   ],
   "source": [
    "A = np.random.randint(1, 50, size=(3, 4))\n",
    "B = np.random.randint(51, 100, size=(3, 4))\n",
    "\n",
    "print((A+B)/2)\n",
    "\n",
    "print(A**2 + B**2)"
   ]
  }
 ],
 "metadata": {
  "kernelspec": {
   "display_name": "Python 3",
   "language": "python",
   "name": "python3"
  },
  "language_info": {
   "codemirror_mode": {
    "name": "ipython",
    "version": 3
   },
   "file_extension": ".py",
   "mimetype": "text/x-python",
   "name": "python",
   "nbconvert_exporter": "python",
   "pygments_lexer": "ipython3",
   "version": "3.10.0"
  }
 },
 "nbformat": 4,
 "nbformat_minor": 5
}
