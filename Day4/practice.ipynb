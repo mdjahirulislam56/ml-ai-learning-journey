{
  "nbformat": 4,
  "nbformat_minor": 0,
  "metadata": {
    "colab": {
      "provenance": []
    },
    "kernelspec": {
      "name": "python3",
      "display_name": "Python 3"
    },
    "language_info": {
      "name": "python"
    }
  },
  "cells": [
    {
      "cell_type": "markdown",
      "source": [
        "**Abstraction** is the process of simplifying complex systems by focusing on essential characteristics while ignoring unnecessary details. In the context of programming and computer science, it involves creating models or representations that capture key features, making it easier to understand and work with complex concepts or systems."
      ],
      "metadata": {
        "id": "UKTUi5PT0Zwy"
      }
    },
    {
      "cell_type": "code",
      "execution_count": null,
      "metadata": {
        "id": "T2MQEgKZrLoK"
      },
      "outputs": [],
      "source": [
        "from abc import ABC , abstractmethod\n",
        "\n",
        "class Parent(ABC): #abstract class\n",
        "\n",
        "  def __init__(self,name):\n",
        "    self.name = name\n",
        "\n",
        "  def parent_info(self):\n",
        "    print(f\"I am Parent of {self.name}.\")\n",
        "\n",
        "  @abstractmethod\n",
        "  def result(self): #abstract method\n",
        "    pass\n"
      ]
    },
    {
      "cell_type": "code",
      "source": [
        "class child(Parent):\n",
        "\n",
        "  def child_info(self):\n",
        "    print(\"I am Jahir\")\n",
        "\n",
        "  def result(self): # if this method is not defined here then the class cannot create any object of its own\n",
        "    print(\"My result is A+\")"
      ],
      "metadata": {
        "id": "4aD6ulCq1VLp"
      },
      "execution_count": null,
      "outputs": []
    },
    {
      "cell_type": "code",
      "source": [
        "Jahir = child(\"Jahir\")\n",
        "\n",
        "Jahir.parent_info()\n",
        "Jahir.child_info()\n",
        "Jahir.result()"
      ],
      "metadata": {
        "colab": {
          "base_uri": "https://localhost:8080/"
        },
        "id": "gcWpSVRI1ynQ",
        "outputId": "076457c2-c555-4cc9-b181-b65b1ff170ec"
      },
      "execution_count": null,
      "outputs": [
        {
          "output_type": "stream",
          "name": "stdout",
          "text": [
            "I am Parent of Jahir.\n",
            "I am Jahir\n",
            "My result is A+\n"
          ]
        }
      ]
    },
    {
      "cell_type": "markdown",
      "source": [
        "**Practice Question:**\n",
        "Create a Python class Shopping that simulates a shopping cart system. Your class should:\n",
        "\n",
        "- Initialize with the customer's name, an empty cart, and total expense set to zero.\n",
        "\n",
        "- Implement a method add_to_cart(item, price, quantity) to add items with their prices and quantities to the cart.\n",
        "\n",
        "- Implement a method remove_from_cart(item_name) that removes an item by name from the cart. If the item is removed successfully, print a confirmation message; if the item is not in the cart or the cart is empty, print an appropriate message.\n",
        "\n",
        "- Implement a method product_details() that returns the list of items currently in the cart.\n",
        "\n",
        "- Implement a method checkout() that computes and returns the total bill amount based on the items (price * quantity) in the cart.\n",
        "\n",
        "Test the class by creating a shopping object with a customer name, adding several products, removing a product, displaying cart contents, and finally calculating the total bill."
      ],
      "metadata": {
        "id": "O0wmWkqb46ri"
      }
    },
    {
      "cell_type": "code",
      "source": [
        "dic = {\"key1\":1, \"key2\":2}\n",
        "\n",
        "for key,value in dic.items():\n",
        "  print(key,value)"
      ],
      "metadata": {
        "colab": {
          "base_uri": "https://localhost:8080/"
        },
        "id": "ugLue2Zo_lHm",
        "outputId": "834e9e51-acc9-4a22-aa4d-108d7e05fee9"
      },
      "execution_count": null,
      "outputs": [
        {
          "output_type": "stream",
          "name": "stdout",
          "text": [
            "key1 1\n",
            "key2 2\n"
          ]
        }
      ]
    },
    {
      "cell_type": "code",
      "source": [
        "\n",
        "class Shopping:\n",
        "  def __init__(self, name):\n",
        "    self.name = name\n",
        "    self.cart = {}\n",
        "    self.total_expense = 0\n",
        "    self.quantity = {}\n",
        "\n",
        "  def add_to_cart(self,item,price,quantity):\n",
        "    self.cart[item]=price\n",
        "    self.quantity[item]=quantity\n",
        "    self.total_expense += price * quantity\n",
        "    print(f\"{quantity}x {item} of price {price} taka is bought.\\nTotal expense: {self.total_expense} taka\")\n",
        "    print(\"-------------------------------\")\n",
        "\n",
        "  def remove_from_cart(self,item_name):\n",
        "    for item,price in self.cart.items():\n",
        "      if item == item_name and self.quantity[item]!=0:\n",
        "        self.cart[item]-=price\n",
        "        self.quantity[item]-=1\n",
        "        self.total_expense -= price\n",
        "        print(f\"{item_name} is removed successfully.\")\n",
        "        print(\"-------------------------------\")\n",
        "        return\n",
        "    print(f\"There is no item names {item_name} in the cart.\")\n",
        "    print(\"-------------------------------\")\n",
        "    return\n",
        "\n",
        "  def product_details(self):\n",
        "    print(\"Items in cart:\")\n",
        "    for item in self.cart:\n",
        "      print(\"- \",item,\" x \",self.quantity[item])\n",
        "    print(\"-------------------------------\")\n",
        "\n",
        "  def checkout(self):\n",
        "    print(f\"Total bill: {self.total_expense} taka\")\n",
        "    print(\"-------------------------------\")\n",
        "\n",
        "test = Shopping(\"Jahir\")\n",
        "\n",
        "test.add_to_cart(\"T-shirt\",500,2)\n",
        "test.add_to_cart(\"Pant\",600,1)\n",
        "test.add_to_cart(\"Shoe\",1000,3)\n",
        "\n",
        "test.product_details()\n",
        "\n",
        "test.remove_from_cart(\"T-shirt\")\n",
        "test.remove_from_cart(\"Shoe\")\n",
        "\n",
        "test.product_details()\n",
        "\n",
        "test.checkout()"
      ],
      "metadata": {
        "id": "pIwB2UWG5DPJ",
        "colab": {
          "base_uri": "https://localhost:8080/"
        },
        "outputId": "09907eee-4f79-40f5-c705-3443e35b43e7"
      },
      "execution_count": null,
      "outputs": [
        {
          "output_type": "stream",
          "name": "stdout",
          "text": [
            "2x T-shirt of price 500 taka is bought.\n",
            "Total expense: 1000 taka\n",
            "-------------------------------\n",
            "1x Pant of price 600 taka is bought.\n",
            "Total expense: 1600 taka\n",
            "-------------------------------\n",
            "3x Shoe of price 1000 taka is bought.\n",
            "Total expense: 4600 taka\n",
            "-------------------------------\n",
            "Items in cart:\n",
            "-  T-shirt  x  2\n",
            "-  Pant  x  1\n",
            "-  Shoe  x  3\n",
            "-------------------------------\n",
            "T-shirt is removed successfully.\n",
            "-------------------------------\n",
            "Shoe is removed successfully.\n",
            "-------------------------------\n",
            "Items in cart:\n",
            "-  T-shirt  x  1\n",
            "-  Pant  x  1\n",
            "-  Shoe  x  2\n",
            "-------------------------------\n",
            "Total bill: 3100 taka\n",
            "-------------------------------\n"
          ]
        }
      ]
    },
    {
      "cell_type": "markdown",
      "source": [
        "**Practice Question:**\n",
        "Write a Python class Bank that simulates basic bank account operations. Your class should:\n",
        "\n",
        "- Initialize with an account balance and define minimum and maximum withdrawal limits.\n",
        "\n",
        "- Implement a method get_balance() that returns the current balance.\n",
        "\n",
        "- Implement a method deposit(amount) that adds money to the balance only if the amount is positive; otherwise, print a decline message.\n",
        "\n",
        "- Implement a method withdraw(amount) that allows withdrawing money if the balance is sufficient and the amount is within defined minimum and maximum withdrawal limits. Print appropriate messages for successful withdrawal, insufficient balance, withdrawal amounts exceeding limits, or attempts below the minimum withdrawal.\n",
        "\n",
        "Test your class by creating an object with an initial balance, performing deposits and withdrawals with various amounts, and showing the updated balance after each operation."
      ],
      "metadata": {
        "id": "4oizXspv5FfY"
      }
    },
    {
      "cell_type": "code",
      "source": [
        "class Bank:\n",
        "  def __init__(self,balance,max_limit,min_limit):\n",
        "    self.balance = balance\n",
        "    self.max_limit = max_limit\n",
        "    self.min_limit = min_limit\n",
        "\n",
        "  def get_balance(self):\n",
        "    print(f\"Current Balance: {self.balance} taka\\n\\n\")\n",
        "\n",
        "  def deposit(self,amount):\n",
        "    if amount < self.max_limit:\n",
        "      self.balance +=amount\n",
        "      print(f\"{amount} taka is deposited successfully in your bank account.\\nCurrent balance is {self.balance} taka\\n\\n\")\n",
        "    else:\n",
        "      print(f\"Deposit Unsuccessful.\\nYou cannot deposit more than {self.max_limit} taka\\n\\n\")\n",
        "\n",
        "  def withdraw(self,amount):\n",
        "    if amount >= self.min_limit:\n",
        "      self.balance -= amount\n",
        "      print(f\"{amount} taka is removed successfully from your bank account.\\nCurrent balance is {self.balance} taka\\n\\n\")\n",
        "    else:\n",
        "      print(f\"Withdraw Unsuccessful.\\nMinimum withdraw limit is {self.min_limit} taka\\n\\n\")\n",
        "\n",
        "DBBL = Bank(30000,100000,500)\n",
        "DBBL.get_balance()\n",
        "\n",
        "DBBL.deposit(2500)\n",
        "DBBL.withdraw(500)\n"
      ],
      "metadata": {
        "id": "FqK9IulsqIYO",
        "colab": {
          "base_uri": "https://localhost:8080/"
        },
        "outputId": "bb3b77c2-f849-441e-f882-f1e50cce3633"
      },
      "execution_count": null,
      "outputs": [
        {
          "output_type": "stream",
          "name": "stdout",
          "text": [
            "Current Balance: 30000 taka\n",
            "\n",
            "\n",
            "2500 taka is deposited successfully in your bank account.\n",
            "Current balance is 32500 taka\n",
            "\n",
            "\n",
            "500 taka is removed successfully from your bank account.\n",
            "Current balance is 32000 taka\n",
            "\n",
            "\n"
          ]
        }
      ]
    },
    {
      "cell_type": "markdown",
      "source": [
        "# Python Practice Problem: Library Management System (Class Composition)\n",
        "\n",
        "## Problem Description\n",
        "\n",
        "Create a small **library system** using **class composition** in Python. In this system, classes will interact with each other by containing objects of other classes.\n",
        "\n",
        "---\n",
        "\n",
        "## Classes to Implement\n",
        "\n",
        "### 1. `Book` class\n",
        "- **Attributes**:\n",
        "  - `title` (str)\n",
        "  - `author` (str)\n",
        "  \n",
        "- **Methods**:\n",
        "  - `__str__()` → Return a readable string containing book information.\n",
        "\n",
        "---\n",
        "\n",
        "### 2. `Member` class\n",
        "- **Attributes**:\n",
        "  - `name` (str)\n",
        "  - `member_id` (str)\n",
        "  - `borrowed_books` (list of `Book` objects)\n",
        "- **Methods**:\n",
        "  - `borrow_book(book)` → Add a `Book` object to `borrowed_books`.\n",
        "  - `return_book(book)` → Remove a `Book` object from `borrowed_books`.\n",
        "  - `show_borrowed_books()` → Display all borrowed books.\n",
        "\n",
        "---\n",
        "\n",
        "### 3. `Library` class\n",
        "- **Attributes**:\n",
        "  - `name` (str)\n",
        "  - `books` (list of `Book` objects)\n",
        "  - `members` (list of `Member` objects)\n",
        "- **Methods**:\n",
        "  - `add_book(book)` → Add a book to the library.\n",
        "  - `add_member(member)` → Add a member to the library.\n",
        "  - `lend_book(book, member)` → Allow a member to borrow a book.\n",
        "  - `show_books()` → Display all books in the library.\n",
        "  - `show_members()` → Display all library members.\n",
        "\n",
        "---\n",
        "\n",
        "## Tasks / Steps\n",
        "\n",
        "1. Create a few `Book` and `Member` objects.  \n",
        "2. Add them to the `Library`.  \n",
        "3. Let members borrow and return books.  \n",
        "4. Print:\n",
        "   - Library books\n",
        "   - Members’ borrowed books at each step  \n",
        "\n",
        "---\n",
        "\n",
        "## Goal\n",
        "\n",
        "- Practice **class composition**: classes containing objects of other classes.  \n",
        "- Practice **object interactions** in Python.\n",
        "\n",
        "---\n",
        "\n",
        "**Optional Challenge:**  \n",
        "- Prevent members from borrowing the same book twice.  \n",
        "- Keep track of available copies of each book.\n"
      ],
      "metadata": {
        "id": "DBN4kmH9q9-c"
      }
    },
    {
      "cell_type": "code",
      "source": [
        "class Book:\n",
        "    def __init__(self, title, author):\n",
        "        self.title = title\n",
        "        self.author = author\n",
        "\n",
        "    def __str__(self):\n",
        "        return f\"Book: {self.title} - Author: {self.author}\"\n",
        "\n",
        "\n",
        "class Member:\n",
        "    def __init__(self, name, member_id):\n",
        "        self.name = name\n",
        "        self.member_id = member_id\n",
        "        self.borrowed_books = []\n",
        "\n",
        "    def borrow_book(self, book):\n",
        "        self.borrowed_books.append(book)\n",
        "\n",
        "\n",
        "    def return_book(self, book, library):\n",
        "        if book in self.borrowed_books:\n",
        "            self.borrowed_books.remove(book)\n",
        "            library.library_returned_book(book, self)\n",
        "        else:\n",
        "            print(f\"{self.name} has not borrowed '{book.title}'\")\n",
        "\n",
        "    def show_borrowed_books(self):\n",
        "        if not self.borrowed_books:\n",
        "            print(f\"{self.name} has not borrowed any books.\")\n",
        "        else:\n",
        "            print(f\"{self.name} has borrowed:\")\n",
        "            for book in self.borrowed_books:\n",
        "                print(f\" - {book}\")\n",
        "\n",
        "\n",
        "class Library:\n",
        "    def __init__(self, name):\n",
        "        self.name = name\n",
        "        self.books = []\n",
        "        self.members = []\n",
        "\n",
        "    def add_book(self, book):\n",
        "        self.books.append(book)\n",
        "        print(f\"{book.title} is added to the library\")\n",
        "\n",
        "    def add_member(self, member):\n",
        "        self.members.append(member)\n",
        "        print(f\"{member.name} is now a member\")\n",
        "\n",
        "    def lend_book(self, book, member):\n",
        "        if member not in self.members:\n",
        "            print(f\"{member.name} is not a member of the library\")\n",
        "            return\n",
        "        if book in self.books:\n",
        "            self.books.remove(book)\n",
        "            member.borrow_book(book)\n",
        "            member.show_borrowed_books()\n",
        "        else:\n",
        "            print(f\"{book.title} is not available for lending\")\n",
        "\n",
        "    def library_returned_book(self, book, member):\n",
        "        self.books.append(book)\n",
        "        print(f\"{member.name} has returned '{book.title}'\")\n",
        "\n",
        "    def show_books(self):\n",
        "        if not self.books:\n",
        "            print(\"No books available in the library.\")\n",
        "        else:\n",
        "            print(\"Books available in the library:\")\n",
        "            for book in self.books:\n",
        "                print(f\" - {book}\")\n",
        "\n",
        "    def show_members(self):\n",
        "        if not self.members:\n",
        "            print(\"No members in the library.\")\n",
        "        else:\n",
        "            print(\"Library members:\")\n",
        "            for member in self.members:\n",
        "                print(f\" - {member.name}\")\n",
        "\n",
        "# Books\n",
        "book1 = Book(\"Book1\", \"Author1\")\n",
        "book2 = Book(\"Book2\", \"Author2\")\n",
        "book3 = Book(\"Book3\", \"Author3\")\n",
        "\n",
        "# Members\n",
        "member1 = Member(\"Jahir\", 2310)\n",
        "member2 = Member(\"Rohan\", 5510)\n",
        "member3 = Member(\"Shafi\", 4110)\n",
        "\n",
        "# Library\n",
        "library1 = Library(\"IIUC Central Library\")\n",
        "\n",
        "# Add books & members\n",
        "library1.add_book(book1)\n",
        "library1.add_book(book2)\n",
        "library1.add_book(book3)\n",
        "\n",
        "library1.add_member(member1)\n",
        "library1.add_member(member2)\n",
        "library1.add_member(member3)\n",
        "\n",
        "library1.show_books()\n",
        "library1.show_members()\n",
        "\n",
        "# Lending books\n",
        "library1.lend_book(book2, member1)\n",
        "library1.lend_book(book1, member2)\n",
        "library1.lend_book(book1, member1)  # book1 already lent to member2\n",
        "\n",
        "# Returning books\n",
        "member2.return_book(book1, library1)\n",
        "\n",
        "library1.show_books()\n"
      ],
      "metadata": {
        "colab": {
          "base_uri": "https://localhost:8080/"
        },
        "id": "ID9mwSr2rMRZ",
        "outputId": "1cb037d0-f884-400b-d7c0-d5276c42fb00"
      },
      "execution_count": null,
      "outputs": [
        {
          "output_type": "stream",
          "name": "stdout",
          "text": [
            "Book1 is added to the library\n",
            "Book2 is added to the library\n",
            "Book3 is added to the library\n",
            "Jahir is now a member\n",
            "Rohan is now a member\n",
            "Shafi is now a member\n",
            "Books available in the library:\n",
            " - Book: Book1 - Author: Author1\n",
            " - Book: Book2 - Author: Author2\n",
            " - Book: Book3 - Author: Author3\n",
            "Library members:\n",
            " - Jahir\n",
            " - Rohan\n",
            " - Shafi\n",
            "Jahir has borrowed:\n",
            " - Book: Book2 - Author: Author2\n",
            "Rohan has borrowed:\n",
            " - Book: Book1 - Author: Author1\n",
            "Book1 is not available for lending\n",
            "Rohan has returned 'Book1'\n",
            "Books available in the library:\n",
            " - Book: Book3 - Author: Author3\n",
            " - Book: Book1 - Author: Author1\n"
          ]
        }
      ]
    },
    {
      "cell_type": "markdown",
      "source": [
        "**Problem with Classmethod:**\n",
        "\n",
        "**Bank Account Factory**\n",
        "\n",
        "- Create a BankAccount class with attributes holder_name and balance.\n",
        "\n",
        "- Implement a class method create_with_minimum_balance(cls, holder_name) that always starts with a balance of 1000."
      ],
      "metadata": {
        "id": "hEkh_9cus7tO"
      }
    },
    {
      "cell_type": "code",
      "source": [
        "class BankAccount:\n",
        "  def __init__(self,holder_name,balance):\n",
        "    self.holder_name = holder_name\n",
        "    self.balance = balance\n",
        "\n",
        "  @classmethod\n",
        "  def create_with_minimum_balance(cls,holder_name):\n",
        "    return BankAccount(holder_name,1000)\n",
        "\n",
        "  def __str__(self):\n",
        "    return f\"Account holder: {self.holder_name}, Balance: {self.balance}\"\n",
        "\n",
        "account1 = BankAccount(\"Jahirul Islam\",50000)\n",
        "print(account1)\n",
        "account2 = BankAccount.create_with_minimum_balance(\"Tanbin\")\n",
        "print(account2)\n"
      ],
      "metadata": {
        "id": "9kYA63lfKDiB",
        "colab": {
          "base_uri": "https://localhost:8080/"
        },
        "outputId": "d4b634e3-3068-4b82-d7fa-89da5e103b81"
      },
      "execution_count": null,
      "outputs": [
        {
          "output_type": "stream",
          "name": "stdout",
          "text": [
            "Account holder: Jahirul Islam, Balance: 50000\n",
            "Account holder: Tanbin, Balance: 1000\n"
          ]
        }
      ]
    },
    {
      "cell_type": "markdown",
      "source": [
        "**Problem Statement (Decorators):**\n",
        "\n",
        "You are building a small system to represent ice cream orders.\n",
        "\n",
        "Create a base class IceCream with a method cost() that returns the base cost (say, 50).\n",
        "\n",
        "Use decorators (Python functions, not @classmethod) to add toppings like:\n",
        "\n",
        "add_chocolate → adds 20 to cost\n",
        "\n",
        "add_nuts → adds 30 to cost\n",
        "\n",
        "add_sprinkles → adds 10 to cost\n",
        "\n",
        "Each topping should also print what it added when applied.\n",
        "\n",
        "Test the system by creating an ice cream with different toppings applied as decorators."
      ],
      "metadata": {
        "id": "CIw0eHYl08G_"
      }
    },
    {
      "cell_type": "code",
      "source": [
        "def add_chocolate(func):\n",
        "  def wrapper(*args, **kwargs):\n",
        "    print(\"Chocolate added!(+20)\")\n",
        "    result = func()+20\n",
        "    return result\n",
        "  return wrapper\n",
        "\n",
        "def add_nuts(func):\n",
        "  def wrapper(*args, **kwargs):\n",
        "    print(\"Nuts added!(+30)\")\n",
        "    result = func()+30\n",
        "    return result\n",
        "  return wrapper\n",
        "\n",
        "def add_sprinkles(func):\n",
        "  def wrapper(*args, **kwargs):\n",
        "    print(\"Sprinkles added!(+10)\")\n",
        "    result = func()+10\n",
        "    return result\n",
        "  return wrapper\n",
        "\n",
        "@add_chocolate\n",
        "@add_nuts\n",
        "@add_sprinkles\n",
        "def ice_cream_cost():\n",
        "  return 50\n",
        "\n",
        "\n",
        "print(f\"Total Cost: {ice_cream_cost()}\")\n"
      ],
      "metadata": {
        "id": "lFrZF3jwxDeS",
        "colab": {
          "base_uri": "https://localhost:8080/"
        },
        "outputId": "31916dec-92c5-4901-e03a-5b0ad04095fc"
      },
      "execution_count": 24,
      "outputs": [
        {
          "output_type": "stream",
          "name": "stdout",
          "text": [
            "Chocolate added!(+20)\n",
            "Nuts added!(+30)\n",
            "Sprinkles added!(+10)\n",
            "Total Cost: 110\n"
          ]
        }
      ]
    },
    {
      "cell_type": "code",
      "source": [
        "import time\n",
        "\n",
        "def time_test(func):\n",
        "    def timer_test_inner():\n",
        "        start = time.time()\n",
        "        func()\n",
        "        end = time.time()\n",
        "        print(f\"{end - start}s\")\n",
        "    return timer_test_inner\n",
        "\n",
        "@time_test\n",
        "def test():\n",
        "  sum = 0\n",
        "  for i in range(100000000):\n",
        "    sum +=1\n",
        "  print(sum)\n",
        "\n",
        "test()"
      ],
      "metadata": {
        "colab": {
          "base_uri": "https://localhost:8080/"
        },
        "id": "DRtoedBE_oTB",
        "outputId": "10168e66-3c18-4825-83a6-2acf97d70f78"
      },
      "execution_count": 35,
      "outputs": [
        {
          "output_type": "stream",
          "name": "stdout",
          "text": [
            "100000000\n",
            "5.156183242797852s\n"
          ]
        }
      ]
    }
  ]
}